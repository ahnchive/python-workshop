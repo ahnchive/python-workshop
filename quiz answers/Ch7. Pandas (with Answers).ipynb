{
 "cells": [
  {
   "cell_type": "markdown",
   "metadata": {
    "id": "7NCm9ZFoHp8a"
   },
   "source": [
    "## Q1. Explore Movies Dataset\n",
    "Below you have dataframe called 'movies' which contains several information on movies. In this and the following exercise, we will explore this dataset. As a first step, please answer how many movies are included in the dataset and show the first 10 rows of Movies dataframe."
   ]
  },
  {
   "cell_type": "markdown",
   "metadata": {
    "id": "GzKddKGzhaau"
   },
   "source": [
    "Hint: Must use `.nunqiue()` which counts unique elements in given column"
   ]
  },
  {
   "cell_type": "code",
   "execution_count": null,
   "metadata": {
    "id": "KtSF3t4lHp8a"
   },
   "outputs": [],
   "source": [
    "#download movies dataset\n",
    "import pandas as pd\n",
    "movies = pd.read_csv('http://bit.ly/imdbratings')"
   ]
  },
  {
   "cell_type": "code",
   "execution_count": null,
   "metadata": {
    "colab": {
     "base_uri": "https://localhost:8080/",
     "height": 546
    },
    "executionInfo": {
     "elapsed": 614,
     "status": "ok",
     "timestamp": 1614368791924,
     "user": {
      "displayName": "Seoyoung Ahn",
      "photoUrl": "https://lh3.googleusercontent.com/-_STWXsfnDBA/AAAAAAAAAAI/AAAAAAAAD9c/kXlZ59lslBY/s64/photo.jpg",
      "userId": "17379736260487986874"
     },
     "user_tz": 300
    },
    "id": "rlNN0mgwhF3v",
    "outputId": "343df431-4aee-437a-9cd2-3ba5c6e44970"
   },
   "outputs": [
    {
     "name": "stdout",
     "output_type": "stream",
     "text": [
      "975\n"
     ]
    },
    {
     "data": {
      "text/html": [
       "<div>\n",
       "<style scoped>\n",
       "    .dataframe tbody tr th:only-of-type {\n",
       "        vertical-align: middle;\n",
       "    }\n",
       "\n",
       "    .dataframe tbody tr th {\n",
       "        vertical-align: top;\n",
       "    }\n",
       "\n",
       "    .dataframe thead th {\n",
       "        text-align: right;\n",
       "    }\n",
       "</style>\n",
       "<table border=\"1\" class=\"dataframe\">\n",
       "  <thead>\n",
       "    <tr style=\"text-align: right;\">\n",
       "      <th></th>\n",
       "      <th>star_rating</th>\n",
       "      <th>title</th>\n",
       "      <th>content_rating</th>\n",
       "      <th>genre</th>\n",
       "      <th>duration</th>\n",
       "      <th>actors_list</th>\n",
       "    </tr>\n",
       "  </thead>\n",
       "  <tbody>\n",
       "    <tr>\n",
       "      <th>0</th>\n",
       "      <td>9.3</td>\n",
       "      <td>The Shawshank Redemption</td>\n",
       "      <td>R</td>\n",
       "      <td>Crime</td>\n",
       "      <td>142</td>\n",
       "      <td>[u'Tim Robbins', u'Morgan Freeman', u'Bob Gunt...</td>\n",
       "    </tr>\n",
       "    <tr>\n",
       "      <th>1</th>\n",
       "      <td>9.2</td>\n",
       "      <td>The Godfather</td>\n",
       "      <td>R</td>\n",
       "      <td>Crime</td>\n",
       "      <td>175</td>\n",
       "      <td>[u'Marlon Brando', u'Al Pacino', u'James Caan']</td>\n",
       "    </tr>\n",
       "    <tr>\n",
       "      <th>2</th>\n",
       "      <td>9.1</td>\n",
       "      <td>The Godfather: Part II</td>\n",
       "      <td>R</td>\n",
       "      <td>Crime</td>\n",
       "      <td>200</td>\n",
       "      <td>[u'Al Pacino', u'Robert De Niro', u'Robert Duv...</td>\n",
       "    </tr>\n",
       "    <tr>\n",
       "      <th>3</th>\n",
       "      <td>9.0</td>\n",
       "      <td>The Dark Knight</td>\n",
       "      <td>PG-13</td>\n",
       "      <td>Action</td>\n",
       "      <td>152</td>\n",
       "      <td>[u'Christian Bale', u'Heath Ledger', u'Aaron E...</td>\n",
       "    </tr>\n",
       "    <tr>\n",
       "      <th>4</th>\n",
       "      <td>8.9</td>\n",
       "      <td>Pulp Fiction</td>\n",
       "      <td>R</td>\n",
       "      <td>Crime</td>\n",
       "      <td>154</td>\n",
       "      <td>[u'John Travolta', u'Uma Thurman', u'Samuel L....</td>\n",
       "    </tr>\n",
       "    <tr>\n",
       "      <th>5</th>\n",
       "      <td>8.9</td>\n",
       "      <td>12 Angry Men</td>\n",
       "      <td>NOT RATED</td>\n",
       "      <td>Drama</td>\n",
       "      <td>96</td>\n",
       "      <td>[u'Henry Fonda', u'Lee J. Cobb', u'Martin Bals...</td>\n",
       "    </tr>\n",
       "    <tr>\n",
       "      <th>6</th>\n",
       "      <td>8.9</td>\n",
       "      <td>The Good, the Bad and the Ugly</td>\n",
       "      <td>NOT RATED</td>\n",
       "      <td>Western</td>\n",
       "      <td>161</td>\n",
       "      <td>[u'Clint Eastwood', u'Eli Wallach', u'Lee Van ...</td>\n",
       "    </tr>\n",
       "    <tr>\n",
       "      <th>7</th>\n",
       "      <td>8.9</td>\n",
       "      <td>The Lord of the Rings: The Return of the King</td>\n",
       "      <td>PG-13</td>\n",
       "      <td>Adventure</td>\n",
       "      <td>201</td>\n",
       "      <td>[u'Elijah Wood', u'Viggo Mortensen', u'Ian McK...</td>\n",
       "    </tr>\n",
       "    <tr>\n",
       "      <th>8</th>\n",
       "      <td>8.9</td>\n",
       "      <td>Schindler's List</td>\n",
       "      <td>R</td>\n",
       "      <td>Biography</td>\n",
       "      <td>195</td>\n",
       "      <td>[u'Liam Neeson', u'Ralph Fiennes', u'Ben Kings...</td>\n",
       "    </tr>\n",
       "    <tr>\n",
       "      <th>9</th>\n",
       "      <td>8.9</td>\n",
       "      <td>Fight Club</td>\n",
       "      <td>R</td>\n",
       "      <td>Drama</td>\n",
       "      <td>139</td>\n",
       "      <td>[u'Brad Pitt', u'Edward Norton', u'Helena Bonh...</td>\n",
       "    </tr>\n",
       "  </tbody>\n",
       "</table>\n",
       "</div>"
      ],
      "text/plain": [
       "   star_rating  ...                                        actors_list\n",
       "0          9.3  ...  [u'Tim Robbins', u'Morgan Freeman', u'Bob Gunt...\n",
       "1          9.2  ...    [u'Marlon Brando', u'Al Pacino', u'James Caan']\n",
       "2          9.1  ...  [u'Al Pacino', u'Robert De Niro', u'Robert Duv...\n",
       "3          9.0  ...  [u'Christian Bale', u'Heath Ledger', u'Aaron E...\n",
       "4          8.9  ...  [u'John Travolta', u'Uma Thurman', u'Samuel L....\n",
       "5          8.9  ...  [u'Henry Fonda', u'Lee J. Cobb', u'Martin Bals...\n",
       "6          8.9  ...  [u'Clint Eastwood', u'Eli Wallach', u'Lee Van ...\n",
       "7          8.9  ...  [u'Elijah Wood', u'Viggo Mortensen', u'Ian McK...\n",
       "8          8.9  ...  [u'Liam Neeson', u'Ralph Fiennes', u'Ben Kings...\n",
       "9          8.9  ...  [u'Brad Pitt', u'Edward Norton', u'Helena Bonh...\n",
       "\n",
       "[10 rows x 6 columns]"
      ]
     },
     "metadata": {
      "tags": []
     },
     "output_type": "display_data"
    }
   ],
   "source": [
    "n_movies = pd.DataFrame(movies)\n",
    "print(n_movies['title'].nunique())\n",
    "display(n_movies.head(10))"
   ]
  },
  {
   "cell_type": "markdown",
   "metadata": {
    "id": "OQq0qW1aHp8f"
   },
   "source": [
    "## Q2. Visualize your data\n",
    "You want to know what how many genre exist and how they are distributed in the dataset. Please use visualization tool that pandas offer (hint: .value_counts().plot(kind='bar')) and answer what genre appears the most/least frequently in the dataset\n"
   ]
  },
  {
   "cell_type": "code",
   "execution_count": null,
   "metadata": {
    "colab": {
     "base_uri": "https://localhost:8080/",
     "height": 337
    },
    "executionInfo": {
     "elapsed": 732,
     "status": "ok",
     "timestamp": 1614368810069,
     "user": {
      "displayName": "Seoyoung Ahn",
      "photoUrl": "https://lh3.googleusercontent.com/-_STWXsfnDBA/AAAAAAAAAAI/AAAAAAAAD9c/kXlZ59lslBY/s64/photo.jpg",
      "userId": "17379736260487986874"
     },
     "user_tz": 300
    },
    "id": "1rjzGQc2Hp8g",
    "outputId": "c9323640-26bf-46c2-f081-b3ded6872c70"
   },
   "outputs": [
    {
     "data": {
      "image/png": "[encoded data removed]",
      "text/plain": [
       "<Figure size 432x288 with 1 Axes>"
      ]
     },
     "metadata": {
      "needs_background": "light",
      "tags": []
     },
     "output_type": "display_data"
    }
   ],
   "source": [
    "# Your implementation here\n",
    "import matplotlib.pyplot as plt\n",
    "\n",
    "n_movies['genre'].value_counts().plot(kind='bar')\n",
    "plt.xlabel('Genre of Movie')\n",
    "plt.ylabel('Total Number of Genre')\n",
    "plt.title('Number of each Movie Genre')\n",
    "plt.show()\n",
    "\n",
    "  "
   ]
  },
  {
   "cell_type": "markdown",
   "metadata": {
    "id": "uDrNlyYyHp8i"
   },
   "source": [
    "## Q3. Get star ratings by genre\n",
    "Please calculate the average star ratings by different movie genre (hint: use groupby)"
   ]
  },
  {
   "cell_type": "code",
   "execution_count": null,
   "metadata": {
    "colab": {
     "base_uri": "https://localhost:8080/"
    },
    "executionInfo": {
     "elapsed": 687,
     "status": "ok",
     "timestamp": 1614368813336,
     "user": {
      "displayName": "Seoyoung Ahn",
      "photoUrl": "https://lh3.googleusercontent.com/-_STWXsfnDBA/AAAAAAAAAAI/AAAAAAAAD9c/kXlZ59lslBY/s64/photo.jpg",
      "userId": "17379736260487986874"
     },
     "user_tz": 300
    },
    "id": "XCD8gzHxHp8j",
    "outputId": "4cbc8870-a883-4c51-8339-59091ff7d792"
   },
   "outputs": [
    {
     "data": {
      "text/plain": [
       "genre\n",
       "Action       7.884559\n",
       "Adventure    7.933333\n",
       "Animation    7.914516\n",
       "Biography    7.862338\n",
       "Comedy       7.822436\n",
       "Crime        7.916935\n",
       "Drama        7.902518\n",
       "Family       7.850000\n",
       "Fantasy      7.700000\n",
       "Film-Noir    8.033333\n",
       "History      8.000000\n",
       "Horror       7.806897\n",
       "Mystery      7.975000\n",
       "Sci-Fi       7.920000\n",
       "Thriller     7.680000\n",
       "Western      8.255556\n",
       "Name: star_rating, dtype: float64"
      ]
     },
     "execution_count": 9,
     "metadata": {
      "tags": []
     },
     "output_type": "execute_result"
    }
   ],
   "source": [
    "# Your implementation here\n",
    "n_movies.groupby('genre')['star_rating'].mean()"
   ]
  },
  {
   "cell_type": "markdown",
   "metadata": {
    "id": "B9bqE9RwHp8l"
   },
   "source": [
    "## Q4. Transform the star ratings into zscore\n",
    "Please create a new column under the name 'zscore' which has standardized values of star ratings. Hint: use lambda x: (x - x.mean()) / x.std()"
   ]
  },
  {
   "cell_type": "code",
   "execution_count": null,
   "metadata": {
    "colab": {
     "base_uri": "https://localhost:8080/"
    },
    "executionInfo": {
     "elapsed": 527,
     "status": "ok",
     "timestamp": 1614368815245,
     "user": {
      "displayName": "Seoyoung Ahn",
      "photoUrl": "https://lh3.googleusercontent.com/-_STWXsfnDBA/AAAAAAAAAAI/AAAAAAAAD9c/kXlZ59lslBY/s64/photo.jpg",
      "userId": "17379736260487986874"
     },
     "user_tz": 300
    },
    "id": "WSo6_iMSzHeu",
    "outputId": "fb8b7d1e-5a97-4bed-d8ca-ba4f1bcea1a7"
   },
   "outputs": [
    {
     "data": {
      "text/plain": [
       "0      4.196201\n",
       "1      3.898644\n",
       "2      3.601086\n",
       "3      3.303528\n",
       "4      3.005971\n",
       "         ...   \n",
       "974   -1.457394\n",
       "975   -1.457394\n",
       "976   -1.457394\n",
       "977   -1.457394\n",
       "978   -1.457394\n",
       "Name: star_rating, Length: 979, dtype: float64"
      ]
     },
     "execution_count": 10,
     "metadata": {
      "tags": []
     },
     "output_type": "execute_result"
    }
   ],
   "source": [
    "zscore = lambda x: (x - x.mean())/x.std()\n",
    "movies['star_rating'].transform(zscore)\n",
    "#difference between transform and apply is that apply inputs a DataFrame and outputs a Series, DataFrame,\n",
    "#numpy array or list. Transform inputs series and returns a sequence in the same length of the group.\n",
    "#Array is used to aggregate values"
   ]
  },
  {
   "cell_type": "markdown",
   "metadata": {
    "id": "HcyeGBlqHp8s"
   },
   "source": [
    "## Q5. Get a list of movies that meets a certain criterion\n",
    "Get a list of movies that has duration under 70 (hint: boolean index)"
   ]
  },
  {
   "cell_type": "code",
   "execution_count": null,
   "metadata": {
    "colab": {
     "base_uri": "https://localhost:8080/",
     "height": 235
    },
    "executionInfo": {
     "elapsed": 603,
     "status": "ok",
     "timestamp": 1614368817935,
     "user": {
      "displayName": "Seoyoung Ahn",
      "photoUrl": "https://lh3.googleusercontent.com/-_STWXsfnDBA/AAAAAAAAAAI/AAAAAAAAD9c/kXlZ59lslBY/s64/photo.jpg",
      "userId": "17379736260487986874"
     },
     "user_tz": 300
    },
    "id": "Dpwc-B85Hp8t",
    "outputId": "bf29c4f8-bda8-4402-9785-86309aedc9c5"
   },
   "outputs": [
    {
     "data": {
      "text/html": [
       "<div>\n",
       "<style scoped>\n",
       "    .dataframe tbody tr th:only-of-type {\n",
       "        vertical-align: middle;\n",
       "    }\n",
       "\n",
       "    .dataframe tbody tr th {\n",
       "        vertical-align: top;\n",
       "    }\n",
       "\n",
       "    .dataframe thead th {\n",
       "        text-align: right;\n",
       "    }\n",
       "</style>\n",
       "<table border=\"1\" class=\"dataframe\">\n",
       "  <thead>\n",
       "    <tr style=\"text-align: right;\">\n",
       "      <th></th>\n",
       "      <th>star_rating</th>\n",
       "      <th>title</th>\n",
       "      <th>content_rating</th>\n",
       "      <th>genre</th>\n",
       "      <th>duration</th>\n",
       "      <th>actors_list</th>\n",
       "    </tr>\n",
       "  </thead>\n",
       "  <tbody>\n",
       "    <tr>\n",
       "      <th>88</th>\n",
       "      <td>8.4</td>\n",
       "      <td>The Kid</td>\n",
       "      <td>NOT RATED</td>\n",
       "      <td>Comedy</td>\n",
       "      <td>68</td>\n",
       "      <td>[u'Charles Chaplin', u'Edna Purviance', u'Jack...</td>\n",
       "    </tr>\n",
       "    <tr>\n",
       "      <th>258</th>\n",
       "      <td>8.1</td>\n",
       "      <td>The Cabinet of Dr. Caligari</td>\n",
       "      <td>UNRATED</td>\n",
       "      <td>Crime</td>\n",
       "      <td>67</td>\n",
       "      <td>[u'Werner Krauss', u'Conrad Veidt', u'Friedric...</td>\n",
       "    </tr>\n",
       "    <tr>\n",
       "      <th>293</th>\n",
       "      <td>8.1</td>\n",
       "      <td>Duck Soup</td>\n",
       "      <td>PASSED</td>\n",
       "      <td>Comedy</td>\n",
       "      <td>68</td>\n",
       "      <td>[u'Groucho Marx', u'Harpo Marx', u'Chico Marx']</td>\n",
       "    </tr>\n",
       "    <tr>\n",
       "      <th>338</th>\n",
       "      <td>8.0</td>\n",
       "      <td>Battleship Potemkin</td>\n",
       "      <td>UNRATED</td>\n",
       "      <td>History</td>\n",
       "      <td>66</td>\n",
       "      <td>[u'Aleksandr Antonov', u'Vladimir Barsky', u'G...</td>\n",
       "    </tr>\n",
       "    <tr>\n",
       "      <th>389</th>\n",
       "      <td>8.0</td>\n",
       "      <td>Freaks</td>\n",
       "      <td>UNRATED</td>\n",
       "      <td>Drama</td>\n",
       "      <td>64</td>\n",
       "      <td>[u'Wallace Ford', u'Leila Hyams', u'Olga Bacla...</td>\n",
       "    </tr>\n",
       "    <tr>\n",
       "      <th>742</th>\n",
       "      <td>7.6</td>\n",
       "      <td>Following</td>\n",
       "      <td>R</td>\n",
       "      <td>Mystery</td>\n",
       "      <td>69</td>\n",
       "      <td>[u'Jeremy Theobald', u'Alex Haw', u'Lucy Russe...</td>\n",
       "    </tr>\n",
       "  </tbody>\n",
       "</table>\n",
       "</div>"
      ],
      "text/plain": [
       "     star_rating  ...                                        actors_list\n",
       "88           8.4  ...  [u'Charles Chaplin', u'Edna Purviance', u'Jack...\n",
       "258          8.1  ...  [u'Werner Krauss', u'Conrad Veidt', u'Friedric...\n",
       "293          8.1  ...    [u'Groucho Marx', u'Harpo Marx', u'Chico Marx']\n",
       "338          8.0  ...  [u'Aleksandr Antonov', u'Vladimir Barsky', u'G...\n",
       "389          8.0  ...  [u'Wallace Ford', u'Leila Hyams', u'Olga Bacla...\n",
       "742          7.6  ...  [u'Jeremy Theobald', u'Alex Haw', u'Lucy Russe...\n",
       "\n",
       "[6 rows x 6 columns]"
      ]
     },
     "execution_count": 11,
     "metadata": {
      "tags": []
     },
     "output_type": "execute_result"
    }
   ],
   "source": [
    "## your implementation\n",
    "less_than_70 = n_movies[\"duration\"] <70\n",
    "n_movies.loc[less_than_70]"
   ]
  },
  {
   "cell_type": "code",
   "execution_count": null,
   "metadata": {
    "id": "lu4wJzM14UA-"
   },
   "outputs": [],
   "source": []
  }
 ],
 "metadata": {
  "colab": {
   "collapsed_sections": [
    "zequ-jPBHp8Z"
   ],
   "name": "Ch7. Pandas (with Answers).ipynb",
   "provenance": [
    {
     "file_id": "1w3WWwfKjZkYp9lz9dSannc1vMOZETKG5",
     "timestamp": 1597092351481
    }
   ],
   "toc_visible": true
  },
  "kernelspec": {
   "display_name": "Python 3",
   "language": "python",
   "name": "python3"
  },
  "language_info": {
   "codemirror_mode": {
    "name": "ipython",
    "version": 3
   },
   "file_extension": ".py",
   "mimetype": "text/x-python",
   "name": "python",
   "nbconvert_exporter": "python",
   "pygments_lexer": "ipython3",
   "version": "3.7.4"
  }
 },
 "nbformat": 4,
 "nbformat_minor": 4
}
