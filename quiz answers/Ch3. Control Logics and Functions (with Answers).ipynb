{
 "cells": [
  {
   "cell_type": "markdown",
   "metadata": {
    "id": "HC0hJOwA6Epu"
   },
   "source": [
    "# Quiz 1. Calculate the sum of dict values \n",
    "Calculate the sum of the values in `magic_dict` by taking only into account numeric values (hint: see [isinstance](https://docs.python.org/3/library/functions.html#isinstance)). "
   ]
  },
  {
   "cell_type": "code",
   "execution_count": null,
   "metadata": {
    "editable": false,
    "id": "4UswR_Nm6Epv"
   },
   "outputs": [],
   "source": [
    "magic_dict = dict(val1=44, val2='secret value', val3=55.0, val4=1)"
   ]
  },
  {
   "cell_type": "code",
   "execution_count": null,
   "metadata": {
    "id": "Qfecw6hw6Ep0"
   },
   "outputs": [],
   "source": [
    "# Your implementation using for loop\n",
    "values = []\n",
    "for key, val in magic_dict.items():\n",
    "  if isinstance(val, str) == True:\n",
    "    continue\n",
    "  values.append(val)\n",
    "sum_of_values = sum(values)"
   ]
  },
  {
   "cell_type": "code",
   "execution_count": null,
   "metadata": {
    "editable": false,
    "id": "KrAKVTgH6Ep3"
   },
   "outputs": [],
   "source": [
    "assert sum_of_values == 100"
   ]
  },
  {
   "cell_type": "markdown",
   "metadata": {
    "id": "w26ohuqm6EqB"
   },
   "source": [
    "# Quiz 2. Create a list of strings based on a list of numbers\n",
    "The rules:\n",
    "* If the number is a multiple of five and odd, the string should be `'five odd'`\n",
    "* If the number is a multiple of five and even, the string should be `'five even'`\n",
    "* If the number is odd, the string is `'odd'`\n",
    "* If the number is even, the string is `'even'`"
   ]
  },
  {
   "cell_type": "code",
   "execution_count": null,
   "metadata": {
    "editable": false,
    "id": "Xel_IGO76EqB"
   },
   "outputs": [],
   "source": [
    "numbers = [1, 3, 4, 6, 81, 80, 100, 95]"
   ]
  },
  {
   "cell_type": "code",
   "execution_count": null,
   "metadata": {
    "id": "id-2sZ8_Adt6"
   },
   "outputs": [],
   "source": [
    "#Your implementations\n",
    "my_list = []\n",
    "for x in numbers:\n",
    "  if x % 2 == 0:\n",
    "    if x % 5 == 0:\n",
    "      my_list.append('five even')\n",
    "    else:\n",
    "      my_list.append('even')\n",
    "  else:\n",
    "    if x % 5 == 0:\n",
    "      my_list.append('five odd')\n",
    "    else:\n",
    "      my_list.append('odd') "
   ]
  },
  {
   "cell_type": "code",
   "execution_count": null,
   "metadata": {
    "editable": false,
    "id": "t-2h_gAF6EqI"
   },
   "outputs": [],
   "source": [
    "assert my_list == ['odd', 'odd', 'even', 'even', 'odd', 'five even', 'five even', 'five odd']"
   ]
  },
  {
   "cell_type": "markdown",
   "metadata": {
    "id": "EXHiLtPf6EqU"
   },
   "source": [
    "# Quiz 3. Fill the missing pieces to create `count_even_numbers` function\n",
    "Fill `____` pieces of the `count_even_numbers` implemention in order to pass the assertions. You can assume that `numbers` argument is a list of integers."
   ]
  },
  {
   "cell_type": "code",
   "execution_count": null,
   "metadata": {
    "colab": {
     "base_uri": "https://localhost:8080/",
     "height": 131
    },
    "executionInfo": {
     "elapsed": 2364,
     "status": "error",
     "timestamp": 1612481946900,
     "user": {
      "displayName": "Amy Hinojosa",
      "photoUrl": "",
      "userId": "06181501860804676647"
     },
     "user_tz": 300
    },
    "id": "2EDd39EY6EqU",
    "outputId": "5a1ccd67-3927-4399-f3cf-e9b976381493"
   },
   "outputs": [
    {
     "ename": "SyntaxError",
     "evalue": "ignored",
     "output_type": "error",
     "traceback": [
      "\u001b[0;36m  File \u001b[0;32m\"<ipython-input-71-1fb09f6760ea>\"\u001b[0;36m, line \u001b[0;32m1\u001b[0m\n\u001b[0;31m    ____ count_even_numbers(numbers):\u001b[0m\n\u001b[0m                          ^\u001b[0m\n\u001b[0;31mSyntaxError\u001b[0m\u001b[0;31m:\u001b[0m invalid syntax\n"
     ]
    }
   ],
   "source": [
    "____ count_even_numbers(numbers):\n",
    "    count = 0\n",
    "    for num in ____:\n",
    "        if ____ % 2 == ____:\n",
    "            count += ____\n",
    "    _____ _____"
   ]
  },
  {
   "cell_type": "code",
   "execution_count": null,
   "metadata": {
    "id": "on2vK7qCVZrY"
   },
   "outputs": [],
   "source": [
    "def count_even_numbers(numbers):\n",
    "  count = 0\n",
    "  for num in numbers:\n",
    "    if (num % 2 == 0):\n",
    "      count += 1\n",
    "  return count"
   ]
  },
  {
   "cell_type": "code",
   "execution_count": null,
   "metadata": {
    "editable": false,
    "id": "f0JgkAdO6EqX"
   },
   "outputs": [],
   "source": [
    "assert count_even_numbers([1, 2, 3, 4, 5, 6]) == 3\n",
    "assert count_even_numbers([1, 3, 5, 7]) == 0\n",
    "assert count_even_numbers([-2, 2, -10, 8]) == 4"
   ]
  },
  {
   "cell_type": "markdown",
   "metadata": {
    "id": "4oXXD-Ex6Eqc"
   },
   "source": [
    "# Quiz 4. Searching for wanted people\n",
    "Implement `find_wanted_people` function which takes a list of names (strings) as argument. The function should return a list of names which are present both in `WANTED_PEOPLE` and in the name list given as argument to the function."
   ]
  },
  {
   "cell_type": "code",
   "execution_count": null,
   "metadata": {
    "editable": false,
    "id": "m1JMMNSY6Eqe"
   },
   "outputs": [],
   "source": [
    "WANTED_PEOPLE = ['John Doe', 'Clint Eastwood', 'Chuck Norris']"
   ]
  },
  {
   "cell_type": "code",
   "execution_count": null,
   "metadata": {
    "id": "nhxa4Ast_FvR"
   },
   "outputs": [],
   "source": [
    "# Your implementation here\n",
    "def find_wanted_people(names):\n",
    "  wanted = []\n",
    "  for x in names:\n",
    "    if x in WANTED_PEOPLE:\n",
    "      wanted.append(x)\n",
    "  return wanted"
   ]
  },
  {
   "cell_type": "code",
   "execution_count": null,
   "metadata": {
    "editable": false,
    "id": "Sk6vKge86Eqm"
   },
   "outputs": [],
   "source": [
    "people_to_check1 = ['Donald Duck', 'Clint Eastwood', 'John Doe', 'Barack Obama']\n",
    "wanted1 = find_wanted_people(people_to_check1)\n",
    "assert len(wanted1) == 2\n",
    "assert 'John Doe' in wanted1\n",
    "assert 'Clint Eastwood'in wanted1\n",
    "\n",
    "people_to_check2 = ['Donald Duck', 'Mickey Mouse', 'Zorro', 'Superman', 'Robin Hood']\n",
    "wanted2 = find_wanted_people(people_to_check2)\n",
    "assert wanted2 == []"
   ]
  },
  {
   "cell_type": "markdown",
   "metadata": {
    "id": "uvS8OAeT44nH"
   },
   "source": [
    "# Quiz 5. Idiomatic usage of for-loops\n",
    "Read idiomatic usage of for-loops again and summarize in your own words what needs to be avoided  when you programming for-loop. The summary doesn't have to be long. This quiz is to help you understand/memorize the better practice of python programming."
   ]
  },
  {
   "cell_type": "markdown",
   "metadata": {
    "id": "93Sl_rD6YAa-"
   },
   "source": [
    "When using loops, it is best to simplify as much as you can. For example, instead of defining a variable as a range or index of a list, you can instead have for item in list print(item) or for val in range(6) print val. Basically, when you can, you must you a loop such as \"for (variable) in (object)\" or commands such as zip(), dict(), range(), etc instead of defining a variable in a certain way that would act as a command."
   ]
  }
 ],
 "metadata": {
  "colab": {
   "collapsed_sections": [],
   "name": "Ch3. Control Logics and Functions (with Answers).ipynb",
   "provenance": [
    {
     "file_id": "1YkprUeCGpjwu0T4vfjBhGKoUakduUY3N",
     "timestamp": 1593280332069
    }
   ],
   "toc_visible": true
  },
  "kernelspec": {
   "display_name": "Python 3",
   "language": "python",
   "name": "python3"
  },
  "language_info": {
   "codemirror_mode": {
    "name": "ipython",
    "version": 3
   },
   "file_extension": ".py",
   "mimetype": "text/x-python",
   "name": "python",
   "nbconvert_exporter": "python",
   "pygments_lexer": "ipython3",
   "version": "3.7.4"
  }
 },
 "nbformat": 4,
 "nbformat_minor": 4
}
