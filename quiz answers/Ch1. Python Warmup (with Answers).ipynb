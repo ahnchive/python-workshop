{
 "cells": [
  {
   "cell_type": "markdown",
   "metadata": {
    "id": "6gde9vCqwC1M"
   },
   "source": [
    "## Quiz 1"
   ]
  },
  {
   "cell_type": "markdown",
   "metadata": {
    "id": "UESg6vPawFdc"
   },
   "source": [
    "Q1: Why is the first statement True but the second one is False in Python? Research and Explain them.\n",
    "\n",
    "1) 3.3 * 2.0 == 6.6\n",
    "\n",
    "2) 2.2 * 3.0 == 6.6"
   ]
  },
  {
   "cell_type": "markdown",
   "metadata": {
    "id": "tm4By2AxwiXp"
   },
   "source": [
    "Answer: Computers operate under log(2) so while 3.3 *2.0 is very close and approaches 6.6, 2.2 and 3.0 is equivalent."
   ]
  },
  {
   "cell_type": "markdown",
   "metadata": {
    "id": "aEmzZbqZ0PJh"
   },
   "source": [
    "Q2: How can you print the sentences like below? Complete the print function (hint: you can use % or '.format\")\n",
    "\n",
    "You have 1 apple(s)\n",
    "\n",
    "You have 2 apple(s)\n",
    "\n",
    "You have 3 apple(s)\n",
    "\n",
    "You have 4 apple(s)\n",
    "\n",
    "You have 5 apple(s)\n",
    "\n",
    "\n"
   ]
  },
  {
   "cell_type": "code",
   "execution_count": null,
   "metadata": {
    "colab": {
     "base_uri": "https://localhost:8080/"
    },
    "executionInfo": {
     "elapsed": 244,
     "status": "ok",
     "timestamp": 1614970143333,
     "user": {
      "displayName": "Amy Hinojosa",
      "photoUrl": "",
      "userId": "06181501860804676647"
     },
     "user_tz": 300
    },
    "id": "oYAsw--r0VdD",
    "outputId": "abf80fa0-7085-4da1-cfe8-1611f806770f"
   },
   "outputs": [
    {
     "name": "stdout",
     "output_type": "stream",
     "text": [
      "You have 1 apple(s)\n",
      "You have 2 apple(s)\n",
      "You have 3 apple(s)\n",
      "You have 4 apple(s)\n",
      "You have 5 apple(s)\n"
     ]
    }
   ],
   "source": [
    "for i in range(1,6): \n",
    "    #using f-string method\n",
    "    print(f\"You have {i} apple(s)\") ## fix this line"
   ]
  }
 ],
 "metadata": {
  "colab": {
   "collapsed_sections": [
    "4MHlI8CZzJs1",
    "UAqjmmqtzJs-",
    "Jgv9uLF_zJty",
    "TV-dQr9xzJuA"
   ],
   "name": "Ch1. Python Warmup (with Answers).ipynb",
   "provenance": [
    {
     "file_id": "1GXQ-oGUnjAUxVfkDYuHb8PtRk8wnmusT",
     "timestamp": 1592369855061
    }
   ],
   "toc_visible": true
  },
  "hide_input": false,
  "kernelspec": {
   "display_name": "Python 3",
   "language": "python",
   "name": "python3"
  },
  "language_info": {
   "codemirror_mode": {
    "name": "ipython",
    "version": 3
   },
   "file_extension": ".py",
   "mimetype": "text/x-python",
   "name": "python",
   "nbconvert_exporter": "python",
   "pygments_lexer": "ipython3",
   "version": "3.7.4"
  },
  "toc": {
   "base_numbering": 1,
   "nav_menu": {},
   "number_sections": true,
   "sideBar": true,
   "skip_h1_title": false,
   "title_cell": "Table of Contents",
   "title_sidebar": "Contents",
   "toc_cell": false,
   "toc_position": {
    "height": "677px",
    "left": "0px",
    "right": "1111px",
    "top": "43px",
    "width": "340px"
   },
   "toc_section_display": "block",
   "toc_window_display": true
  },
  "varInspector": {
   "cols": {
    "lenName": 16,
    "lenType": 16,
    "lenVar": 40
   },
   "kernels_config": {
    "python": {
     "delete_cmd_postfix": "",
     "delete_cmd_prefix": "del ",
     "library": "var_list.py",
     "varRefreshCmd": "print(var_dic_list())"
    },
    "r": {
     "delete_cmd_postfix": ") ",
     "delete_cmd_prefix": "rm(",
     "library": "var_list.r",
     "varRefreshCmd": "cat(var_dic_list()) "
    }
   },
   "types_to_exclude": [
    "module",
    "function",
    "builtin_function_or_method",
    "instance",
    "_Feature"
   ],
   "window_display": false
  }
 },
 "nbformat": 4,
 "nbformat_minor": 4
}
