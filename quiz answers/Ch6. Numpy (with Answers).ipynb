{
 "cells": [
  {
   "cell_type": "markdown",
   "metadata": {
    "id": "QNzlPcF7vrTZ"
   },
   "source": [
    "## Q1. Create a null vector of size (3,3) but the value at (first row, second column) as 5\n",
    "hint: use np.zeros "
   ]
  },
  {
   "cell_type": "code",
   "execution_count": null,
   "metadata": {
    "colab": {
     "base_uri": "https://localhost:8080/"
    },
    "executionInfo": {
     "elapsed": 302,
     "status": "ok",
     "timestamp": 1614368609026,
     "user": {
      "displayName": "Seoyoung Ahn",
      "photoUrl": "https://lh3.googleusercontent.com/-_STWXsfnDBA/AAAAAAAAAAI/AAAAAAAAD9c/kXlZ59lslBY/s64/photo.jpg",
      "userId": "17379736260487986874"
     },
     "user_tz": 300
    },
    "id": "BMcqugVovrTa",
    "outputId": "48a456c8-e0f7-4d16-a5d1-466390ca54c2"
   },
   "outputs": [
    {
     "name": "stdout",
     "output_type": "stream",
     "text": [
      "[[0. 5. 0.]\n",
      " [0. 0. 0.]\n",
      " [0. 0. 0.]]\n"
     ]
    }
   ],
   "source": [
    "import numpy as np\n",
    "v = np.zeros((3,3))\n",
    "v[0,1] = 5\n",
    "print (v)"
   ]
  },
  {
   "cell_type": "markdown",
   "metadata": {
    "id": "z3sN9YezvrTb"
   },
   "source": [
    "## Q2. Create a 10x10 array with random values and find the minimum/maximum/mean values\n",
    "\n",
    "hint: .min(), .max(), .mean()"
   ]
  },
  {
   "cell_type": "code",
   "execution_count": null,
   "metadata": {
    "colab": {
     "base_uri": "https://localhost:8080/"
    },
    "executionInfo": {
     "elapsed": 297,
     "status": "ok",
     "timestamp": 1614368612349,
     "user": {
      "displayName": "Seoyoung Ahn",
      "photoUrl": "https://lh3.googleusercontent.com/-_STWXsfnDBA/AAAAAAAAAAI/AAAAAAAAD9c/kXlZ59lslBY/s64/photo.jpg",
      "userId": "17379736260487986874"
     },
     "user_tz": 300
    },
    "id": "70ghE8ESvrTc",
    "outputId": "5f8d426a-e63b-4deb-a075-5647cb500ea4"
   },
   "outputs": [
    {
     "name": "stdout",
     "output_type": "stream",
     "text": [
      "[[ 8 17 17  4  5  0 14 11  0 11]\n",
      " [11 10  4  9  5  0  1 15 16 18]\n",
      " [ 4  3 14 16 16 18  9  6 15  7]\n",
      " [11  9 19 15  5 14 19  1  8 13]\n",
      " [18  3 18  4  0  4 18  2 10  7]\n",
      " [ 9  5 16 12  2  4 12  8 16 13]\n",
      " [11  2  6 14 19 19  1 12  9  7]\n",
      " [ 8 17  8  7  1  1 10 18  3 16]\n",
      " [11 12 14 14  6 15  3 11 16  0]\n",
      " [13 19 15  8 15 17 18 19 10  5]]\n",
      "0\n",
      "19\n",
      "10.09\n"
     ]
    }
   ],
   "source": [
    "x = np.random.randint(20, size=(10,10))\n",
    "print(x)\n",
    "print(x.min())\n",
    "print(x.max())\n",
    "print(x.mean())"
   ]
  },
  {
   "cell_type": "markdown",
   "metadata": {
    "id": "5I3DbcaovrTd"
   },
   "source": [
    "## Q3. Run the code below and discuss the results "
   ]
  },
  {
   "cell_type": "code",
   "execution_count": null,
   "metadata": {
    "colab": {
     "base_uri": "https://localhost:8080/"
    },
    "executionInfo": {
     "elapsed": 312,
     "status": "ok",
     "timestamp": 1614368614969,
     "user": {
      "displayName": "Seoyoung Ahn",
      "photoUrl": "https://lh3.googleusercontent.com/-_STWXsfnDBA/AAAAAAAAAAI/AAAAAAAAD9c/kXlZ59lslBY/s64/photo.jpg",
      "userId": "17379736260487986874"
     },
     "user_tz": 300
    },
    "id": "pcwjwE4tvrTd",
    "outputId": "ec72c5a0-12c9-46b3-e2e2-14e6ef609a0a"
   },
   "outputs": [
    {
     "name": "stdout",
     "output_type": "stream",
     "text": [
      "nan\n",
      "False\n",
      "False\n",
      "nan\n",
      "True\n",
      "False\n"
     ]
    }
   ],
   "source": [
    "print(0 * np.nan)\n",
    "print(np.nan == np.nan)\n",
    "print(np.inf > np.nan)\n",
    "print(np.nan - np.nan)\n",
    "print(np.nan in set([np.nan]))\n",
    "print(0.3 == 3 * 0.1)"
   ]
  },
  {
   "cell_type": "markdown",
   "metadata": {
    "id": "_FF9sLwj7k6r"
   },
   "source": [
    "* 1st: No matter what mathematical function you do with nan, it returns as nan since it stands for a missing value\n",
    "* 2nd: Since nan is a special floating point integer it cannot equate to itself or other forms of data like str int or float\n",
    "* 3rd: Since np.nan is not defined, it cannot be deterimined if it is less than, greater than, or equal to 0\n",
    "* 4th: No matter what mathematical function you do with nan, it returns as nan since it stands for a missing value, even when using it against itself.\n",
    "* 5th: Though nan cannot equal nan, it is nan and can be found with the nan value set since it is conserved in functions\n",
    "* 6th: Float are hard to == integer types in mathematical functions since the computer operates under a log function that may cause a very small difference in values"
   ]
  },
  {
   "cell_type": "markdown",
   "metadata": {
    "id": "sbjf4mEFvrTg"
   },
   "source": [
    "# Q4. Normalize a 5x5 random matrix \n",
    "\n",
    "hint: (x -mean)/std"
   ]
  },
  {
   "cell_type": "code",
   "execution_count": null,
   "metadata": {
    "colab": {
     "base_uri": "https://localhost:8080/"
    },
    "executionInfo": {
     "elapsed": 311,
     "status": "ok",
     "timestamp": 1614368618634,
     "user": {
      "displayName": "Seoyoung Ahn",
      "photoUrl": "https://lh3.googleusercontent.com/-_STWXsfnDBA/AAAAAAAAAAI/AAAAAAAAD9c/kXlZ59lslBY/s64/photo.jpg",
      "userId": "17379736260487986874"
     },
     "user_tz": 300
    },
    "id": "LZeVQ1VGvrTh",
    "outputId": "7d607e9b-9df8-4e01-9dd4-d445d7173477"
   },
   "outputs": [
    {
     "name": "stdout",
     "output_type": "stream",
     "text": [
      "[[6 8 8 5 5]\n",
      " [5 1 5 4 3]\n",
      " [0 9 9 0 2]\n",
      " [8 0 1 4 5]\n",
      " [4 6 4 1 0]]\n",
      "[[ 0.65391403  1.34956726  1.34956726  0.30608742  0.30608742]\n",
      " [ 0.30608742 -1.08521903  0.30608742 -0.04173919 -0.38956581]\n",
      " [-1.43304565  1.69739387  1.69739387 -1.43304565 -0.73739242]\n",
      " [ 1.34956726 -1.43304565 -1.08521903 -0.04173919  0.30608742]\n",
      " [-0.04173919  0.65391403 -0.04173919 -1.08521903 -1.43304565]]\n"
     ]
    }
   ],
   "source": [
    "import numpy as np\n",
    "\n",
    "x = np.random.randint(10, size=(5,5))\n",
    "print (x)\n",
    "y = x.mean()\n",
    "z = x.std()\n",
    "print((x-y)/z)"
   ]
  },
  {
   "cell_type": "markdown",
   "metadata": {
    "id": "Avi8ZPTwvrTi"
   },
   "source": [
    "# Q5. Multiply a the following 5x3 matrix by a 3x2 matrix\n",
    "hint: @ or np.matmul"
   ]
  },
  {
   "cell_type": "code",
   "execution_count": null,
   "metadata": {
    "colab": {
     "base_uri": "https://localhost:8080/"
    },
    "executionInfo": {
     "elapsed": 303,
     "status": "ok",
     "timestamp": 1614368621854,
     "user": {
      "displayName": "Seoyoung Ahn",
      "photoUrl": "https://lh3.googleusercontent.com/-_STWXsfnDBA/AAAAAAAAAAI/AAAAAAAAD9c/kXlZ59lslBY/s64/photo.jpg",
      "userId": "17379736260487986874"
     },
     "user_tz": 300
    },
    "id": "k7oRYbr5vrTi",
    "outputId": "c41cc421-17ab-4411-9941-962f1765a603"
   },
   "outputs": [
    {
     "name": "stdout",
     "output_type": "stream",
     "text": [
      "[[ 10  13]\n",
      " [ 28  40]\n",
      " [ 46  67]\n",
      " [ 64  94]\n",
      " [ 82 121]]\n"
     ]
    },
    {
     "data": {
      "text/plain": [
       "array([[ 10,  13],\n",
       "       [ 28,  40],\n",
       "       [ 46,  67],\n",
       "       [ 64,  94],\n",
       "       [ 82, 121]])"
      ]
     },
     "execution_count": 6,
     "metadata": {
      "tags": []
     },
     "output_type": "execute_result"
    }
   ],
   "source": [
    "a = np.arange(15).reshape(5,3)\n",
    "b = np.arange(6).reshape(3,2)\n",
    "## matrix multiplaction\n",
    "c = np.matmul(a, b)\n",
    "print(c)\n",
    "a @ b"
   ]
  },
  {
   "cell_type": "markdown",
   "metadata": {
    "id": "oASCuxbuvrTl"
   },
   "source": [
    "# Q6. Create random vector of size 10 and replace the maximum value by 0\n",
    "hint: np.argmax"
   ]
  },
  {
   "cell_type": "code",
   "execution_count": null,
   "metadata": {
    "colab": {
     "base_uri": "https://localhost:8080/"
    },
    "executionInfo": {
     "elapsed": 285,
     "status": "ok",
     "timestamp": 1614368636189,
     "user": {
      "displayName": "Seoyoung Ahn",
      "photoUrl": "https://lh3.googleusercontent.com/-_STWXsfnDBA/AAAAAAAAAAI/AAAAAAAAD9c/kXlZ59lslBY/s64/photo.jpg",
      "userId": "17379736260487986874"
     },
     "user_tz": 300
    },
    "id": "jRRIzpyuvrTl",
    "outputId": "bc4201d3-8728-4a04-a9c7-0971920d0fb7"
   },
   "outputs": [
    {
     "name": "stdout",
     "output_type": "stream",
     "text": [
      "[58 38 92 63 33 71 84 83 55 65]\n",
      "2\n",
      "[58 38  0 63 33 71 84 83 55 65]\n"
     ]
    }
   ],
   "source": [
    "u = np.random.randint(100, size=(10))\n",
    "print (u)\n",
    "v = (np.argmax(u))\n",
    "print(v)\n",
    "u[v] = 0\n",
    "print(u)"
   ]
  },
  {
   "cell_type": "markdown",
   "metadata": {
    "id": "6bFIwNwfvrTn"
   },
   "source": [
    "# Q7. Find the closest value \n",
    "\n",
    "hint: get the absolute difference between Z and v using `np.abs`, and find the location of the smallest difference using `.argmin()`"
   ]
  },
  {
   "cell_type": "code",
   "execution_count": null,
   "metadata": {
    "colab": {
     "base_uri": "https://localhost:8080/"
    },
    "executionInfo": {
     "elapsed": 339,
     "status": "ok",
     "timestamp": 1614368640189,
     "user": {
      "displayName": "Seoyoung Ahn",
      "photoUrl": "https://lh3.googleusercontent.com/-_STWXsfnDBA/AAAAAAAAAAI/AAAAAAAAD9c/kXlZ59lslBY/s64/photo.jpg",
      "userId": "17379736260487986874"
     },
     "user_tz": 300
    },
    "id": "5y49wziCvrTo",
    "outputId": "7072276a-3ded-451f-fea4-1fd1a2d826f1"
   },
   "outputs": [
    {
     "name": "stdout",
     "output_type": "stream",
     "text": [
      "[ 3.2  2.2  1.2  0.2  0.8  1.8  2.8  3.8  4.8  5.8  6.8  7.8  8.8  9.8\n",
      " 10.8 11.8 12.8 13.8 14.8 15.8 16.8 17.8 18.8 19.8 20.8 21.8 22.8 23.8\n",
      " 24.8 25.8 26.8 27.8 28.8 29.8 30.8 31.8 32.8 33.8 34.8 35.8 36.8 37.8\n",
      " 38.8 39.8 40.8 41.8 42.8 43.8 44.8 45.8 46.8 47.8 48.8 49.8 50.8 51.8\n",
      " 52.8 53.8 54.8 55.8 56.8 57.8 58.8 59.8 60.8 61.8 62.8 63.8 64.8 65.8\n",
      " 66.8 67.8 68.8 69.8 70.8 71.8 72.8 73.8 74.8 75.8 76.8 77.8 78.8 79.8\n",
      " 80.8 81.8 82.8 83.8 84.8 85.8 86.8 87.8 88.8 89.8 90.8 91.8 92.8 93.8\n",
      " 94.8 95.8]\n",
      "3\n"
     ]
    }
   ],
   "source": [
    "v = 3.2\n",
    "Z = np.arange(100)\n",
    "\n",
    "# find the value that is closest to 3.2 in vector Z\n",
    "y = np.abs(Z-v)\n",
    "print(y)\n",
    "index = y.argmin()\n",
    "print(Z[index])"
   ]
  },
  {
   "cell_type": "markdown",
   "metadata": {
    "id": "SqOq4pFqvrTs"
   },
   "source": [
    "## Q8. Find the indexes where the values are even\n",
    "\n",
    "hint: np.where"
   ]
  },
  {
   "cell_type": "code",
   "execution_count": 9,
   "metadata": {
    "colab": {
     "base_uri": "https://localhost:8080/"
    },
    "executionInfo": {
     "elapsed": 302,
     "status": "ok",
     "timestamp": 1616728901650,
     "user": {
      "displayName": "Seoyoung Ahn",
      "photoUrl": "https://lh3.googleusercontent.com/-_STWXsfnDBA/AAAAAAAAAAI/AAAAAAAAD9c/kXlZ59lslBY/s64/photo.jpg",
      "userId": "17379736260487986874"
     },
     "user_tz": 240
    },
    "id": "pSBa0Q-XvrTs",
    "outputId": "0877b678-9f3b-4e86-bf2c-2562a1d8747e"
   },
   "outputs": [
    {
     "name": "stdout",
     "output_type": "stream",
     "text": [
      "[1 3 5 7]\n"
     ]
    }
   ],
   "source": [
    "arr = np.array([1, 2, 3, 4, 5, 6, 7, 8])\n",
    "# your implementation\n",
    "indices  = np.where(arr%2 == 0)[0]\n",
    "print(indices) # it should print [1,3,5,7]"
   ]
  }
 ],
 "metadata": {
  "colab": {
   "collapsed_sections": [],
   "name": "Ch6. Numpy (with Answers).ipynb",
   "provenance": [
    {
     "file_id": "12S29wfL21QtGaZ9CKwOBcp6be-0dTn_l",
     "timestamp": 1595894852695
    }
   ],
   "toc_visible": true
  },
  "kernelspec": {
   "display_name": "Python 3",
   "language": "python",
   "name": "python3"
  },
  "language_info": {
   "codemirror_mode": {
    "name": "ipython",
    "version": 3
   },
   "file_extension": ".py",
   "mimetype": "text/x-python",
   "name": "python",
   "nbconvert_exporter": "python",
   "pygments_lexer": "ipython3",
   "version": "3.7.4"
  }
 },
 "nbformat": 4,
 "nbformat_minor": 4
}
