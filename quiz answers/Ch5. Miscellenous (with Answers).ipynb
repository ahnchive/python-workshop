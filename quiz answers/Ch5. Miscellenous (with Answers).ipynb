{
 "cells": [
  {
   "cell_type": "markdown",
   "metadata": {
    "id": "GU-cTJQ_9cwF"
   },
   "source": [
    "# Q1 File I/O. Sum numbers listed in a file\n",
    "Fill ____ pieces of the code below. `sum_numbers_in_file` function takes a input file path as argument, reads the numbers listed in the input file and returns the sum of those numbers. You can assume that each line contains exactly one numeric value."
   ]
  },
  {
   "cell_type": "code",
   "execution_count": 13,
   "metadata": {
    "colab": {
     "base_uri": "https://localhost:8080/"
    },
    "executionInfo": {
     "elapsed": 645,
     "status": "ok",
     "timestamp": 1616728505398,
     "user": {
      "displayName": "Seoyoung Ahn",
      "photoUrl": "https://lh3.googleusercontent.com/-_STWXsfnDBA/AAAAAAAAAAI/AAAAAAAAD9c/kXlZ59lslBY/s64/photo.jpg",
      "userId": "17379736260487986874"
     },
     "user_tz": 240
    },
    "id": "zW88R4nP9cwF",
    "outputId": "50772fd2-2f93-4dce-ad60-61df5348e92f"
   },
   "outputs": [
    {
     "name": "stdout",
     "output_type": "stream",
     "text": [
      "--2021-03-26 03:15:04--  https://raw.githubusercontent.com/ahnchive/python-workshop/main/data/numbers.txt\n",
      "Resolving raw.githubusercontent.com (raw.githubusercontent.com)... 185.199.108.133, 185.199.109.133, 185.199.110.133, ...\n",
      "Connecting to raw.githubusercontent.com (raw.githubusercontent.com)|185.199.108.133|:443... connected.\n",
      "HTTP request sent, awaiting response... 200 OK\n",
      "Length: 28 [text/plain]\n",
      "Saving to: ‘/content/data/numbers.txt’\n",
      "\n",
      "/content/data/numbe 100%[===================>]      28  --.-KB/s    in 0s      \n",
      "\n",
      "2021-03-26 03:15:05 (1.07 MB/s) - ‘/content/data/numbers.txt’ saved [28/28]\n",
      "\n"
     ]
    }
   ],
   "source": [
    "# EXECUTE THIS ONE FIRST!\n",
    "import os\n",
    "# DATA DIR for colab use:\n",
    "DATA_DIR = '/content/data/'\n",
    "# create directory if not exist\n",
    "if not os.path.exists(DATA_DIR):\n",
    "    os.makedirs(DATA_DIR)\n",
    "# download numbers.txt data \n",
    "!wget -O /content/data/numbers.txt https://raw.githubusercontent.com/ahnchive/python-workshop/main/data/numbers.txt"
   ]
  },
  {
   "cell_type": "code",
   "execution_count": 14,
   "metadata": {
    "executionInfo": {
     "elapsed": 459,
     "status": "ok",
     "timestamp": 1616728508594,
     "user": {
      "displayName": "Seoyoung Ahn",
      "photoUrl": "https://lh3.googleusercontent.com/-_STWXsfnDBA/AAAAAAAAAAI/AAAAAAAAD9c/kXlZ59lslBY/s64/photo.jpg",
      "userId": "17379736260487986874"
     },
     "user_tz": 240
    },
    "id": "OVn-qSLy9cwH"
   },
   "outputs": [],
   "source": [
    "def sum_numbers_in_file(input_file):\n",
    "    sum_ = 0  # A common way to use variable names that collide with built-in/keyword words is to add underscore\n",
    "    with open(input_file, 'r') as numbers:\n",
    "        for line in numbers:\n",
    "            line = line.strip()  # Remove potential white space \n",
    "            sum_ += float(line)\n",
    "    return sum_"
   ]
  },
  {
   "cell_type": "code",
   "execution_count": 16,
   "metadata": {
    "editable": false,
    "executionInfo": {
     "elapsed": 405,
     "status": "ok",
     "timestamp": 1616728513100,
     "user": {
      "displayName": "Seoyoung Ahn",
      "photoUrl": "https://lh3.googleusercontent.com/-_STWXsfnDBA/AAAAAAAAAAI/AAAAAAAAD9c/kXlZ59lslBY/s64/photo.jpg",
      "userId": "17379736260487986874"
     },
     "user_tz": 240
    },
    "id": "lKqFKz8d9cwI"
   },
   "outputs": [],
   "source": [
    "in_file = os.path.join(DATA_DIR, 'numbers.txt')\n",
    "assert sum_numbers_in_file(in_file) == 189.5"
   ]
  },
  {
   "cell_type": "markdown",
   "metadata": {
    "id": "BUdJ0W2Y9cwJ"
   },
   "source": [
    "# Q2. Identifying bugs in code\n",
    "The following `stripped_reversed_lowercase` function contains at least one bug. You can see this by running the code in the cell below which tests the functionality of the `stripped_reversed_lowercase` function.\n",
    "\n",
    "Set trace at the beginning of `stripped_reversed_lowercase` and use debugger to solve the bug(s). Execute the code line by line and print variables used in the function to understand what's going wrong. "
   ]
  },
  {
   "cell_type": "code",
   "execution_count": null,
   "metadata": {
    "id": "QO6-Dl6o9cwK"
   },
   "outputs": [],
   "source": [
    "def stripped_reversed_lowercase(original):\n",
    "    # Set a breakpoint here and start debugging using pdb.set_trace()\n",
    "    stripped = original.strip()\n",
    "    reverse = ''.join(reversed(stripped))\n",
    "    low = reverse.lower()\n",
    "    return low"
   ]
  },
  {
   "cell_type": "code",
   "execution_count": null,
   "metadata": {
    "editable": false,
    "id": "RVs3wlrT9cwL"
   },
   "outputs": [],
   "source": [
    "# Let's verify it works\n",
    "original = ' \\n Original String '\n",
    "result = stripped_reversed_lowercase(original)\n",
    "assert result == 'gnirts lanigiro'"
   ]
  },
  {
   "cell_type": "markdown",
   "metadata": {
    "id": "XiXtSIzc9cwN"
   },
   "source": [
    "# Q3. List Comprehension"
   ]
  },
  {
   "cell_type": "markdown",
   "metadata": {
    "id": "NucMqU5G9cwN"
   },
   "source": [
    "Given a list of numbers, write a list comprehension that produces a list of each number doubled."
   ]
  },
  {
   "cell_type": "code",
   "execution_count": null,
   "metadata": {
    "id": "JAIrj12u9cwN"
   },
   "outputs": [],
   "source": [
    "def doubled(nums):\n",
    "    # Your implementation here\n",
    "    result = [val*2 for val in nums]\n",
    "    return result"
   ]
  },
  {
   "cell_type": "code",
   "execution_count": null,
   "metadata": {
    "id": "fmoCNa3w9cwP"
   },
   "outputs": [],
   "source": [
    "# Let's verify it works\n",
    "res1 = doubled([1, 2, 3, 4, 5])\n",
    "res2 = doubled([-2, 2, -10, 10])\n",
    "assert res1 == [2, 4, 6, 8, 10]\n",
    "assert res2 == [-4, 4, -20, 20]"
   ]
  },
  {
   "cell_type": "markdown",
   "metadata": {
    "id": "xLkyJ0ia9cwR"
   },
   "source": [
    "# Q4. Filter\n",
    "Write a program to filter odd numbers from the list using filter() function"
   ]
  },
  {
   "cell_type": "code",
   "execution_count": null,
   "metadata": {
    "id": "32FBLuy19cwR"
   },
   "outputs": [],
   "source": [
    "# list of numbers\n",
    "numbers = [1, 2, 4, 5, 7, 8, 10, 11]\n",
    "\n",
    "# function that filters vowels\n",
    "def filterOddNum(in_num):\n",
    "    # your implementation \n",
    "      if in_num%2 == 0:\n",
    "          return True\n",
    "      else:\n",
    "          return False\n",
    "# Demonstrating filter() to remove odd numbers\n",
    "out_filter = [x for x in filter(filterOddNum, numbers)]"
   ]
  },
  {
   "cell_type": "code",
   "execution_count": null,
   "metadata": {
    "id": "8pAw1bzp9cwS"
   },
   "outputs": [],
   "source": [
    "# Let's verify it works\n",
    "assert out_filter == [2, 4, 8, 10]"
   ]
  },
  {
   "cell_type": "markdown",
   "metadata": {
    "id": "6j3CByZY9cwT"
   },
   "source": [
    "# Q5. Miscellenous Usage\n",
    "Write a short paragraph about what you have newly learned from the miscellenous part and what you want to memorize in your future programming"
   ]
  },
  {
   "cell_type": "markdown",
   "metadata": {
    "id": "a0ulHHQM2VFD"
   },
   "source": [
    "From miscellanous usage, I learned how to upload a file from my computer into colab. Also, I learned how to retrieve uploaded files from colab folders. For example, to retrieve these files you must import os and then DATA_DIR = '/(name of folder)'. Using the debugging tool, pdb, I learned how to detect problems within coding and how to fix them. List comprehension can be used for reinterations to extract data from filters and to also shorten code for functions involving lists. Finally, I also learned how to use quick pythonic functions such as join(), min(), max(), etc. in order to write ande execute coding quickly. For future programming, I especially hope to memorize how to open files and debugging since I feel these are very essential tools that will be used often."
   ]
  }
 ],
 "metadata": {
  "colab": {
   "collapsed_sections": [
    "vofCgkF_9cuj",
    "OUx7W6ZV9cuk",
    "ozIsyPaE9cv1",
    "_3dMcWDU9cv6"
   ],
   "name": "Ch5. Miscellenous (with Answers).ipynb",
   "provenance": [
    {
     "file_id": "1JbL5IWNZtKFx-96Z0iG_4gXxQTznT6q6",
     "timestamp": 1594757622693
    }
   ]
  },
  "kernelspec": {
   "display_name": "Python 3",
   "language": "python",
   "name": "python3"
  },
  "language_info": {
   "codemirror_mode": {
    "name": "ipython",
    "version": 3
   },
   "file_extension": ".py",
   "mimetype": "text/x-python",
   "name": "python",
   "nbconvert_exporter": "python",
   "pygments_lexer": "ipython3",
   "version": "3.7.4"
  }
 },
 "nbformat": 4,
 "nbformat_minor": 4
}
