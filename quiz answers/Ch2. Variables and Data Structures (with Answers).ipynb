{
 "cells": [
  {
   "cell_type": "markdown",
   "metadata": {
    "id": "8jNt_76_xNn9"
   },
   "source": [
    "## Quiz 1. Prettify ugly string\n",
    "Use `str` methods to convert `' tiTle of MY new Book\\n\\n'` to prettier form `'Title Of My New Book'`."
   ]
  },
  {
   "cell_type": "code",
   "execution_count": null,
   "metadata": {
    "editable": false,
    "executionInfo": {
     "elapsed": 2212,
     "status": "aborted",
     "timestamp": 1614970970214,
     "user": {
      "displayName": "Amy Hinojosa",
      "photoUrl": "",
      "userId": "06181501860804676647"
     },
     "user_tz": 300
    },
    "id": "-ZYJCG16xNn9"
   },
   "outputs": [],
   "source": [
    "ugly = ' tiTle of MY new Book\\n\\n'"
   ]
  },
  {
   "cell_type": "code",
   "execution_count": null,
   "metadata": {
    "executionInfo": {
     "elapsed": 2204,
     "status": "aborted",
     "timestamp": 1614970970214,
     "user": {
      "displayName": "Amy Hinojosa",
      "photoUrl": "",
      "userId": "06181501860804676647"
     },
     "user_tz": 300
    },
    "id": "uIdaBRqcxNn_"
   },
   "outputs": [],
   "source": [
    "# Your implementation:\n",
    "pretty = ugly.strip().title()\n",
    "print(pretty)"
   ]
  },
  {
   "cell_type": "markdown",
   "metadata": {
    "id": "gd1HA6z-xNoB"
   },
   "source": [
    "Let's make sure that it does what we want. `assert` raises [`AssertionError`](https://docs.python.org/3/library/exceptions.html#AssertionError) if the statement is not `True`."
   ]
  },
  {
   "cell_type": "code",
   "execution_count": null,
   "metadata": {
    "editable": false,
    "executionInfo": {
     "elapsed": 2196,
     "status": "aborted",
     "timestamp": 1614970970214,
     "user": {
      "displayName": "Amy Hinojosa",
      "photoUrl": "",
      "userId": "06181501860804676647"
     },
     "user_tz": 300
    },
    "id": "O4__8yvXxNoB"
   },
   "outputs": [],
   "source": [
    "print('pretty: {}'.format(pretty))\n",
    "assert pretty == 'Title Of My New Book'"
   ]
  },
  {
   "cell_type": "markdown",
   "metadata": {
    "id": "uXVeP3k1xNoF"
   },
   "source": [
    "## Quiz 2. Floating point pitfalls\n",
    "Show that `0.1 + 0.2 == 0.3`"
   ]
  },
  {
   "cell_type": "code",
   "execution_count": null,
   "metadata": {
    "executionInfo": {
     "elapsed": 2189,
     "status": "aborted",
     "timestamp": 1614970970215,
     "user": {
      "displayName": "Amy Hinojosa",
      "photoUrl": "",
      "userId": "06181501860804676647"
     },
     "user_tz": 300
    },
    "id": "1mQUxbYaxNoI"
   },
   "outputs": [],
   "source": [
    "# This won't work:\n",
    "assert 0.1 + 0.2 == 0.3"
   ]
  },
  {
   "cell_type": "code",
   "execution_count": null,
   "metadata": {
    "executionInfo": {
     "elapsed": 2182,
     "status": "aborted",
     "timestamp": 1614970970215,
     "user": {
      "displayName": "Amy Hinojosa",
      "photoUrl": "",
      "userId": "06181501860804676647"
     },
     "user_tz": 300
    },
    "id": "FLmcmrUpxNoL"
   },
   "outputs": [],
   "source": [
    "# Your solution here\n",
    "from decimal import Decimal\n",
    "one_tenth = Decimal('0.1')\n",
    "two_tenths  = Decimal('0.2')\n",
    "three_tenths = Decimal ('0.3')\n",
    "one_tenth + two_tenths == three_tenths"
   ]
  },
  {
   "cell_type": "markdown",
   "metadata": {
    "id": "1gmaRRObxNoM"
   },
   "source": [
    "## Quiz 3. Fill the missing pieces\n",
    "Fill the `____` parts of the code below."
   ]
  },
  {
   "cell_type": "code",
   "execution_count": null,
   "metadata": {
    "executionInfo": {
     "elapsed": 2180,
     "status": "aborted",
     "timestamp": 1614970970215,
     "user": {
      "displayName": "Amy Hinojosa",
      "photoUrl": "",
      "userId": "06181501860804676647"
     },
     "user_tz": 300
    },
    "id": "eDxyJKuqxNoN"
   },
   "outputs": [],
   "source": [
    "# Let's create an empty list\n",
    "my_list = []\n",
    "\n",
    "# Let's add some values\n",
    "my_list.append('Python')\n",
    "my_list.append('is ok')\n",
    "my_list.append('sometimes')\n",
    "\n",
    "# Let's remove 'sometimes'\n",
    "my_list.remove('sometimes')\n",
    "\n",
    "# Let's change the second item\n",
    "my_list[1] = 'is neat'"
   ]
  },
  {
   "cell_type": "code",
   "execution_count": null,
   "metadata": {
    "editable": false,
    "executionInfo": {
     "elapsed": 2179,
     "status": "aborted",
     "timestamp": 1614970970216,
     "user": {
      "displayName": "Amy Hinojosa",
      "photoUrl": "",
      "userId": "06181501860804676647"
     },
     "user_tz": 300
    },
    "id": "0AnP2TdFxNoP"
   },
   "outputs": [],
   "source": [
    "# Let's verify that it's correct\n",
    "assert my_list == ['Python', 'is neat']"
   ]
  },
  {
   "cell_type": "markdown",
   "metadata": {
    "id": "JOlzszddxNoR"
   },
   "source": [
    "## Quiz 4. Create a new list without modifiying the original one\n"
   ]
  },
  {
   "cell_type": "markdown",
   "metadata": {
    "id": "gWoUKnby0P9k"
   },
   "source": [
    "Create a list called modified that outputs ['I', 'am', 'learning', 'lists', 'in', 'Python'] by changing the list named original"
   ]
  },
  {
   "cell_type": "code",
   "execution_count": 67,
   "metadata": {
    "editable": false,
    "executionInfo": {
     "elapsed": 237,
     "status": "ok",
     "timestamp": 1614971783996,
     "user": {
      "displayName": "Amy Hinojosa",
      "photoUrl": "",
      "userId": "06181501860804676647"
     },
     "user_tz": 300
    },
    "id": "KxfsW7eGxNoR"
   },
   "outputs": [],
   "source": [
    "original = ['I', 'am', 'learning', 'hacking', 'in']"
   ]
  },
  {
   "cell_type": "code",
   "execution_count": null,
   "metadata": {
    "executionInfo": {
     "elapsed": 2171,
     "status": "aborted",
     "timestamp": 1614970970216,
     "user": {
      "displayName": "Amy Hinojosa",
      "photoUrl": "",
      "userId": "06181501860804676647"
     },
     "user_tz": 300
    },
    "id": "ySJyHkZaxNoT"
   },
   "outputs": [],
   "source": [
    "# Your implementation here\n",
    "modified = list(original)\n",
    "modified.append(\"Python\")\n",
    "modified[3] = \"lists\"\n",
    "print(modified)"
   ]
  },
  {
   "cell_type": "code",
   "execution_count": null,
   "metadata": {
    "executionInfo": {
     "elapsed": 2169,
     "status": "aborted",
     "timestamp": 1614970970216,
     "user": {
      "displayName": "Amy Hinojosa",
      "photoUrl": "",
      "userId": "06181501860804676647"
     },
     "user_tz": 300
    },
    "id": "UL_2-0EUxNoV"
   },
   "outputs": [],
   "source": [
    "# Let's verify that it's correct\n",
    "assert original == ['I', 'am', 'learning', 'hacking', 'in']\n",
    "assert modified == ['I', 'am', 'learning', 'lists', 'in', 'Python']"
   ]
  },
  {
   "cell_type": "markdown",
   "metadata": {
    "id": "hut_WWYlxNoX"
   },
   "source": [
    "## Quiz 5. Create dictionary from two lists \n",
    "hint: Google 'create dictionary from two lists'. You will use `zip` function"
   ]
  },
  {
   "cell_type": "code",
   "execution_count": null,
   "metadata": {
    "executionInfo": {
     "elapsed": 2169,
     "status": "aborted",
     "timestamp": 1614970970217,
     "user": {
      "displayName": "Amy Hinojosa",
      "photoUrl": "",
      "userId": "06181501860804676647"
     },
     "user_tz": 300
    },
    "id": "I57mCqM4xNoX"
   },
   "outputs": [],
   "source": [
    "# You have two lists of keys and values and you want to create dictionary from these\n",
    "keys = ['name', 'age', 'food']\n",
    "values = ['Monty', 42, 'spam']"
   ]
  },
  {
   "cell_type": "code",
   "execution_count": null,
   "metadata": {
    "executionInfo": {
     "elapsed": 2166,
     "status": "aborted",
     "timestamp": 1614970970217,
     "user": {
      "displayName": "Amy Hinojosa",
      "photoUrl": "",
      "userId": "06181501860804676647"
     },
     "user_tz": 300
    },
    "id": "rXbyoX2FxNoZ"
   },
   "outputs": [],
   "source": [
    "# Your implementation here\n",
    "result = dict(zip(keys, values))"
   ]
  },
  {
   "cell_type": "code",
   "execution_count": null,
   "metadata": {
    "executionInfo": {
     "elapsed": 2159,
     "status": "aborted",
     "timestamp": 1614970970217,
     "user": {
      "displayName": "Amy Hinojosa",
      "photoUrl": "",
      "userId": "06181501860804676647"
     },
     "user_tz": 300
    },
    "id": "3eA5dBwWxNog"
   },
   "outputs": [],
   "source": [
    "# Let's verify that it's correct\n",
    "result == {'name' : 'Monty', 'age' : 42, 'food' : 'spam'}"
   ]
  },
  {
   "cell_type": "markdown",
   "metadata": {
    "id": "96hUJYYexNoi"
   },
   "source": [
    "## Quiz 6. Accessing and merging dictionaries\n",
    "Combine `dict1`, `dict2`, and `dict3` into `my_dict`. In addition, get the value of `special_key` from `my_dict` into a `special_value` variable. Note that original dictionaries should stay untouched and `special_key` should be removed from `my_dict`."
   ]
  },
  {
   "cell_type": "code",
   "execution_count": null,
   "metadata": {
    "editable": false,
    "executionInfo": {
     "elapsed": 2158,
     "status": "aborted",
     "timestamp": 1614970970218,
     "user": {
      "displayName": "Amy Hinojosa",
      "photoUrl": "",
      "userId": "06181501860804676647"
     },
     "user_tz": 300
    },
    "id": "KtWdykAixNoi"
   },
   "outputs": [],
   "source": [
    "dict1 = dict(key1='This is not that hard', key2='Python is still cool')\n",
    "dict2 = {'key1': 123, 'special_key': 'secret'}\n",
    "# This is also a away to initialize a dict (list of tuples) \n",
    "dict3 = dict([('key2', 456), ('keyX', 'X')])"
   ]
  },
  {
   "cell_type": "code",
   "execution_count": null,
   "metadata": {
    "executionInfo": {
     "elapsed": 2151,
     "status": "aborted",
     "timestamp": 1614970970218,
     "user": {
      "displayName": "Amy Hinojosa",
      "photoUrl": "",
      "userId": "06181501860804676647"
     },
     "user_tz": 300
    },
    "id": "EwptvqooxNom"
   },
   "outputs": [],
   "source": [
    "# 'Your implementation'\n",
    "my_dict = dict(dict1)\n",
    "my_dict.update(dict2)\n",
    "my_dict.update(dict3)\n",
    "my_dict.pop('special_key')\n",
    "print(my_dict)\n",
    "special_value = dict2['special_key']"
   ]
  },
  {
   "cell_type": "code",
   "execution_count": null,
   "metadata": {
    "executionInfo": {
     "elapsed": 2149,
     "status": "aborted",
     "timestamp": 1614970970218,
     "user": {
      "displayName": "Amy Hinojosa",
      "photoUrl": "",
      "userId": "06181501860804676647"
     },
     "user_tz": 300
    },
    "id": "Nuu32C-_xNoo"
   },
   "outputs": [],
   "source": [
    "# Let's verify that it's correct\n",
    "assert my_dict == {'key1': 123, 'key2': 456, 'keyX': 'X'}\n",
    "assert special_value == 'secret'\n",
    "\n",
    "# Let's check that the originals are untouched\n",
    "assert dict1 == {\n",
    "        'key1': 'This is not that hard',\n",
    "        'key2': 'Python is still cool'\n",
    "    }\n",
    "assert dict2 == {'key1': 123, 'special_key': 'secret'}\n",
    "assert dict3 == {'key2': 456, 'keyX': 'X'}"
   ]
  },
  {
   "cell_type": "markdown",
   "metadata": {
    "id": "jFpagqiRxNop"
   },
   "source": [
    "## Quiz 7. Mutable vs Immutable\n",
    "\n",
    "There are mutable vs immutable data types in Python. Please specify which data types are mutable and immutable among what you have learned so far (e.g., string, numbers, list, dictionaries). And do some google search and briefly describe why understanding mutability is important for python programming"
   ]
  },
  {
   "cell_type": "markdown",
   "metadata": {
    "id": "w0mk7ui8xNop"
   },
   "source": [
    "Answer: keys in dictionaries are immutable but values in dicitionaries are not. Strings, numbers, and lists are mutable. Tuples are immutable. Mutability is important because it allows for changes. Immutability is also important if you have core programming that you do not want to change under any circumstances."
   ]
  }
 ],
 "metadata": {
  "colab": {
   "collapsed_sections": [],
   "name": "Ch2. Variables and Data Structures (with Answers).ipynb",
   "provenance": [
    {
     "file_id": "1A7ODkJjYMpoEe0_wzpU9gE1ema3StNRW",
     "timestamp": 1592839701900
    }
   ],
   "toc_visible": true
  },
  "kernelspec": {
   "display_name": "Python 3",
   "language": "python",
   "name": "python3"
  },
  "language_info": {
   "codemirror_mode": {
    "name": "ipython",
    "version": 3
   },
   "file_extension": ".py",
   "mimetype": "text/x-python",
   "name": "python",
   "nbconvert_exporter": "python",
   "pygments_lexer": "ipython3",
   "version": "3.7.4"
  }
 },
 "nbformat": 4,
 "nbformat_minor": 4
}
