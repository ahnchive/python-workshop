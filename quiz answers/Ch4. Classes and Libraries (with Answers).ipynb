{
 "cells": [
  {
   "cell_type": "markdown",
   "metadata": {
    "id": "8WZlrS827FmD"
   },
   "source": [
    "# Q1. Fill the missing pieces of the `Calculator` class\n",
    "Fill `____` pieces of the `Calculator` implemention in order to pass the assertions."
   ]
  },
  {
   "cell_type": "code",
   "execution_count": null,
   "metadata": {
    "id": "f1WQUB2V7FmE"
   },
   "outputs": [],
   "source": [
    "# your implementation\n",
    "class Calculator:\n",
    "    def __init__(self, var1, var2):\n",
    "        self.var1 = var1\n",
    "        self.var2 = var2\n",
    "    \n",
    "    def calculate_power(self):\n",
    "        return self.var1 ** self.var2\n",
    "    \n",
    "    def calculate_sum(self, var3):\n",
    "        return self.var1 + self.var2 + var3"
   ]
  },
  {
   "cell_type": "code",
   "execution_count": null,
   "metadata": {
    "editable": false,
    "id": "n1RFdgFR7FmG"
   },
   "outputs": [],
   "source": [
    "calc = Calculator(2, 3)\n",
    "assert calc.calculate_power() == 8\n",
    "assert calc.calculate_sum(4) == 9"
   ]
  },
  {
   "cell_type": "markdown",
   "metadata": {
    "id": "-1LML6tY7FmI"
   },
   "source": [
    "# Q2. Roll dice in such a way that every time you get the same number\n",
    "Dice has 6 numbers (from 1 to 6). Roll dice in such a way that **every time you must get the same output number!** (hint: you need to use random.choice())"
   ]
  },
  {
   "cell_type": "code",
   "execution_count": null,
   "metadata": {
    "colab": {
     "base_uri": "https://localhost:8080/"
    },
    "executionInfo": {
     "elapsed": 238,
     "status": "ok",
     "timestamp": 1613155808870,
     "user": {
      "displayName": "Amy Hinojosa",
      "photoUrl": "",
      "userId": "06181501860804676647"
     },
     "user_tz": 300
    },
    "id": "tuxzeDyu7FmK",
    "outputId": "9db1dd92-cc45-4fb4-9882-47d56c029d63"
   },
   "outputs": [
    {
     "name": "stdout",
     "output_type": "stream",
     "text": [
      "4\n"
     ]
    }
   ],
   "source": [
    "# your implementation\n",
    "import random\n",
    "dice = [1, 2, 3, 4, 5, 6]\n",
    "random.seed(0)\n",
    "random_choice = random.choice(dice)\n",
    "print(random_choice)"
   ]
  },
  {
   "cell_type": "markdown",
   "metadata": {
    "id": "HlzY6QnQ7FmM"
   },
   "source": [
    "# Q3. Discribe the relationship between funtion, class, module, package, library in your own words"
   ]
  },
  {
   "cell_type": "markdown",
   "metadata": {
    "id": "OgN8lAmaIxQf"
   },
   "source": [
    "Functions are defined using variables and are used to execute items quickly that can not be done with other functions such as sum(), zip(), print(), etc. Class then sort together a series of functions that usually are alike in some way (for example: class could be created to put togehter functions that do mathematical equations). Classes are then sorted into packages/modules which are then put into the library for easier access.\n",
    "\n",
    "Overall, library is seen as the diretory which is separated using packages/modules. These packages/modules are shortcuts to classes that are defined using functions. "
   ]
  }
 ],
 "metadata": {
  "colab": {
   "collapsed_sections": [],
   "name": "Ch4. Classes and Libraries (with Answers).ipynb",
   "provenance": [
    {
     "file_id": "1sK429SMHu-bEBsX-Tnq5d-McnfWCAZa5",
     "timestamp": 1593968551115
    }
   ],
   "toc_visible": true
  },
  "kernelspec": {
   "display_name": "Python 3",
   "language": "python",
   "name": "python3"
  },
  "language_info": {
   "codemirror_mode": {
    "name": "ipython",
    "version": 3
   },
   "file_extension": ".py",
   "mimetype": "text/x-python",
   "name": "python",
   "nbconvert_exporter": "python",
   "pygments_lexer": "ipython3",
   "version": "3.7.4"
  }
 },
 "nbformat": 4,
 "nbformat_minor": 4
}
