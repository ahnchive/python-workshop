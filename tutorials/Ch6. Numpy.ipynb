{
 "cells": [
  {
   "cell_type": "markdown",
   "metadata": {
    "id": "07HN406DziUz"
   },
   "source": [
    "## Tutorial 6: Numpy\n",
    "Objective: Get yourself familiar with Python basic elements.\n",
    "\n",
    "Code adapted from :\n",
    "- Nicolas P. Rougier, . (2015, August 21). numpy-tutorial: Version 1.0 (Version 1.0). Zenodo. http://doi.org/10.5281/zenodo.28817 (https://github.com/rougier/numpy-tutorial All code and material is licensed under a Creative Commons Attribution-ShareAlike 4.0.)\n",
    "- Nicolas P. Rougier, ., Jessica B. Hamrick, ., ibah, ., Gavin Heverly-Coulson, ., Dapid, ., Christoph Deil, ., & Bartosz Telenczuk, . (2016, August 27). numpy-100: Version 1.1 (Version 1.1). Zenodo. http://doi.org/10.5281/zenodo.61020 (https://github.com/rougier/numpy-100 All code and material is licensed under MIT license)\n",
    "- https://github.com/ksopyla/numpy-tutorial/ All code and material is licensed under MIT license. Copyright (c) 2017 Krzysztof Sopyła\n",
    "\n",
    "MIT License:\n",
    "Permission is hereby granted, free of charge, to any person obtaining a copy\n",
    "of this software and associated documentation files (the \"Software\"), to deal\n",
    "in the Software without restriction, including without limitation the rights\n",
    "to use, copy, modify, merge, publish, distribute, sublicense, and/or sell\n",
    "copies of the Software, and to permit persons to whom the Software is\n",
    "furnished to do so, subject to the following conditions:\n",
    "\n",
    "Resources:\n",
    "- https://numpy.org/doc/stable/user/\n",
    "- https://www.labri.fr/perso/nrougier/from-python-to-numpy/"
   ]
  },
  {
   "cell_type": "markdown",
   "metadata": {},
   "source": [
    "# Intro"
   ]
  },
  {
   "cell_type": "markdown",
   "metadata": {
    "id": "AuDo52_HvrSF"
   },
   "source": [
    "NumPy is the fundamental package for scientific computing with Python. It contains among other things:\n",
    "\n",
    "* a powerful N-dimensional array object\n",
    "* sophisticated (broadcasting) functions\n",
    "* tools for integrating C/C++ and Fortran code\n",
    "* useful linear algebra, Fourier transform, and random number capabilities\n",
    "\n",
    "Besides its obvious scientific uses, NumPy can also be used as an efficient multi-dimensional container of generic data. Arbitrary data-types can be defined and this allows NumPy to seamlessly and speedily integrate with a wide variety of projects.\n"
   ]
  },
  {
   "cell_type": "markdown",
   "metadata": {
    "id": "hPJ9ZACuvrSG"
   },
   "source": [
    "# Compare python list vs numpy array \n",
    "We are going to explore numpy through a simple example, implementing the Game of Life. Watch this video for introduction"
   ]
  },
  {
   "cell_type": "code",
   "execution_count": null,
   "metadata": {
    "id": "iWOzFf1rvrSH",
    "outputId": "644a9336-510c-4f62-d2e4-9d9454ecb9e1"
   },
   "outputs": [
    {
     "data": {
      "text/html": [
       "\n",
       "        <iframe\n",
       "            width=\"400\"\n",
       "            height=\"300\"\n",
       "            src=\"https://www.youtube.com/embed/https://www.youtube.com/watch?v=ouipbDkwHWA\"\n",
       "            frameborder=\"0\"\n",
       "            allowfullscreen\n",
       "        ></iframe>\n",
       "        "
      ],
      "text/plain": [
       "<IPython.lib.display.YouTubeVideo at 0x109647590>"
      ]
     },
     "execution_count": 27,
     "metadata": {
      "tags": []
     },
     "output_type": "execute_result"
    }
   ],
   "source": [
    "from IPython.display import YouTubeVideo\n",
    "YouTubeVideo('https://www.youtube.com/w atch?v=ouipbDkwHWA')"
   ]
  },
  {
   "cell_type": "markdown",
   "metadata": {
    "id": "BoILqH4avrSL"
   },
   "source": [
    "The universe of the Game of Life is an infinite two-dimensional orthogonal grid of square cells, each of which is in one of two possible states, live or dead. Every cell interacts with its eight neighbours, which are the cells that are directly horizontally, vertically, or diagonally adjacent. At each step in time, the following transitions occur:\n",
    "\n",
    "* Any live cell with fewer than two live neighbours dies, as if by needs caused by underpopulation.\n",
    "* Any live cell with more than three live neighbours dies, as if by overcrowding.\n",
    "* Any live cell with two or three live neighbours lives, unchanged, to the next generation.\n",
    "* Any dead cell with exactly three live neighbours becomes a live cell.\n",
    "\n",
    "Now you will see two versions of implementations of these: using only Python vs. using Numpy library"
   ]
  },
  {
   "cell_type": "markdown",
   "metadata": {
    "id": "jJMMUsAxvrSM"
   },
   "source": [
    "## python version "
   ]
  },
  {
   "cell_type": "code",
   "execution_count": null,
   "metadata": {
    "colab": {
     "base_uri": "https://localhost:8080/",
     "height": 612
    },
    "executionInfo": {
     "elapsed": 692,
     "status": "ok",
     "timestamp": 1595964202827,
     "user": {
      "displayName": "Amy Hinojosa",
      "photoUrl": "",
      "userId": "06181501860804676647"
     },
     "user_tz": 240
    },
    "id": "JLOnkXCUvrSN",
    "outputId": "2802cfbc-a132-4730-8fc1-df8fdb3679e0"
   },
   "outputs": [
    {
     "name": "stdout",
     "output_type": "stream",
     "text": [
      "====== step:0 =======\n",
      "\n",
      "[0, 0, 1, 0]\n",
      "[1, 0, 1, 0]\n",
      "[0, 1, 1, 0]\n",
      "[0, 0, 0, 0]\n",
      "\n",
      "====== step:1 =======\n",
      "\n",
      "[0, 1, 0, 0]\n",
      "[0, 0, 1, 1]\n",
      "[0, 1, 1, 0]\n",
      "[0, 0, 0, 0]\n",
      "\n",
      "====== step:2 =======\n",
      "\n",
      "[0, 0, 1, 0]\n",
      "[0, 0, 0, 1]\n",
      "[0, 1, 1, 1]\n",
      "[0, 0, 0, 0]\n",
      "\n",
      "====== step:3 =======\n",
      "\n",
      "[0, 0, 0, 0]\n",
      "[0, 1, 0, 1]\n",
      "[0, 0, 1, 1]\n",
      "[0, 0, 1, 0]\n",
      "\n",
      "====== step:4 =======\n",
      "\n",
      "[0, 0, 0, 0]\n",
      "[0, 0, 0, 1]\n",
      "[0, 1, 0, 1]\n",
      "[0, 0, 1, 1]\n",
      "\n"
     ]
    }
   ],
   "source": [
    "def zero_pad(Z): \n",
    "    newZ = []\n",
    "    for r in Z:\n",
    "        r = [0] + r\n",
    "        r.append(0)\n",
    "        newZ.append(r)\n",
    "    newZ.insert(0, [0]*len(newZ[0]))\n",
    "    newZ.insert(-1, [0]*len(newZ[0]))\n",
    "    return newZ\n",
    "\n",
    "def compute_neighbours(Z):\n",
    "    shape = len(Z), len(Z[0])\n",
    "    N  = [[0,]*(shape[0])  for i in range(shape[1])]\n",
    "    for x in range(1,shape[0]-1):\n",
    "        for y in range(1,shape[1]-1):\n",
    "            N[x][y] = Z[x-1][y-1]+Z[x][y-1]+Z[x+1][y-1] \\\n",
    "                    + Z[x-1][y]            +Z[x+1][y]   \\\n",
    "                    + Z[x-1][y+1]+Z[x][y+1]+Z[x+1][y+1]\n",
    "    return N\n",
    "\n",
    "def show(Z):\n",
    "    for l in Z[1:-1]:\n",
    "        print(l[1:-1])\n",
    "    print()\n",
    "\n",
    "def iterate(Z):\n",
    "    shape = len(Z), len(Z[0])\n",
    "    N = compute_neighbours(Z)\n",
    "    for x in range(1,shape[0]-1):\n",
    "        for y in range(1,shape[1]-1):\n",
    "            if Z[x][y] == 1 and (N[x][y] < 2 or N[x][y] > 3):\n",
    "                Z[x][y] = 0\n",
    "            elif Z[x][y] == 0 and N[x][y] == 3:\n",
    "                Z[x][y] = 1\n",
    "    return Z\n",
    "\n",
    "n_iter = 4 \n",
    "\n",
    "Z = [[0,0,1,0],\n",
    "     [1,0,1,0],\n",
    "     [0,1,1,0],\n",
    "     [0,0,0,0]]\n",
    "\n",
    "Z = zero_pad(Z)\n",
    "print('====== step:{} =======\\n'.format(0))\n",
    "show(Z)\n",
    "\n",
    "for i in range(n_iter): \n",
    "    Z = iterate(Z)\n",
    "    print('====== step:{} =======\\n'.format(i+1))\n",
    "    show(Z)"
   ]
  },
  {
   "cell_type": "markdown",
   "metadata": {
    "id": "5tfEUEnZvrSP"
   },
   "source": [
    "## numpy version"
   ]
  },
  {
   "cell_type": "code",
   "execution_count": null,
   "metadata": {
    "colab": {
     "base_uri": "https://localhost:8080/"
    },
    "executionInfo": {
     "elapsed": 476,
     "status": "ok",
     "timestamp": 1613091939372,
     "user": {
      "displayName": "Amy Hinojosa",
      "photoUrl": "",
      "userId": "06181501860804676647"
     },
     "user_tz": 300
    },
    "id": "1YGNcz50vrSQ",
    "outputId": "d0b5ab96-803d-40a6-ab05-354abe3532d5"
   },
   "outputs": [
    {
     "name": "stdout",
     "output_type": "stream",
     "text": [
      "====== step:0 =======\n",
      "\n",
      "[[0 0 1 0]\n",
      " [1 0 1 0]\n",
      " [0 1 1 0]\n",
      " [0 0 0 0]]\n",
      "====== step:1 =======\n",
      "\n",
      "[[0 1 0 0]\n",
      " [0 0 1 1]\n",
      " [0 1 1 0]\n",
      " [0 0 0 0]]\n",
      "====== step:2 =======\n",
      "\n",
      "[[0 0 1 0]\n",
      " [0 0 0 1]\n",
      " [0 1 1 1]\n",
      " [0 0 0 0]]\n",
      "====== step:3 =======\n",
      "\n",
      "[[0 0 0 0]\n",
      " [0 1 0 1]\n",
      " [0 0 1 1]\n",
      " [0 0 1 0]]\n",
      "====== step:4 =======\n",
      "\n",
      "[[0 0 0 0]\n",
      " [0 0 0 1]\n",
      " [0 1 0 1]\n",
      " [0 0 1 1]]\n"
     ]
    }
   ],
   "source": [
    "import numpy as np\n",
    "\n",
    "def zero_pad(Z): \n",
    "    newZ = np.pad(Z, ((1,1),(1,1)), 'constant')\n",
    "    return newZ\n",
    "\n",
    "def compute_neighbours(Z):\n",
    "    shape = Z.shape\n",
    "    N  = np.zeros_like(Z)\n",
    "    kernel = np.ones((3,3))\n",
    "    kernel[1,1] = 0\n",
    "    for x in range(1,shape[0]-1):\n",
    "        for y in range(1,shape[1]-1):\n",
    "            N[x][y] = np.sum(Z[x-1:x+2, y-1:y+2]*kernel)\n",
    "    return N\n",
    "    \n",
    "def iterate(Z):\n",
    "    # Count neighbours\n",
    "    N = compute_neighbours(Z)\n",
    "    \n",
    "    # Apply rules\n",
    "    R1 = (N<2) & (Z==1)\n",
    "    R2 = (N>3) & (Z==1)\n",
    "    R3 = ((N==2) | (N==3)) & (Z==1)\n",
    "    R4 = (N==3) & (Z==0)\n",
    "    \n",
    "    Z[R1|R2] = 0\n",
    "    Z[R3|R4] = 1\n",
    "\n",
    "    return Z\n",
    "\n",
    "n_iter = 4 \n",
    "\n",
    "Z =np.array([[0,0,1,0],\n",
    "             [1,0,1,0],\n",
    "             [0,1,1,0],\n",
    "             [0,0,0,0]])\n",
    "\n",
    "\n",
    "Z = zero_pad(Z)\n",
    "print('====== step:{} =======\\n'.format(0))\n",
    "print(Z[1:-1,1:-1])\n",
    "\n",
    "for i in range(n_iter): \n",
    "    Z = iterate(Z)\n",
    "    print('====== step:{} =======\\n'.format(i+1))\n",
    "    print(Z[1:-1,1:-1])"
   ]
  },
  {
   "cell_type": "markdown",
   "metadata": {
    "id": "-0tijhWxvrSS"
   },
   "source": [
    "# 1. creating array"
   ]
  },
  {
   "cell_type": "code",
   "execution_count": null,
   "metadata": {
    "id": "Nj7LDyb8vrST"
   },
   "outputs": [],
   "source": [
    "# import numpy as np\n",
    "import numpy as np"
   ]
  },
  {
   "cell_type": "code",
   "execution_count": null,
   "metadata": {
    "id": "buKW9RYbvrSW",
    "outputId": "7cd29351-72ab-4a3a-dcab-1bb1cf50099f"
   },
   "outputs": [
    {
     "name": "stdout",
     "output_type": "stream",
     "text": [
      "<class 'numpy.ndarray'>\n",
      "(3,)\n",
      "1 2 3\n",
      "[5 2 3]\n"
     ]
    }
   ],
   "source": [
    "# create 1D array\n",
    "a = np.array([1, 2, 3])  # Create a dimension 1 array\n",
    "print(type(a))          # Prints \"<type 'numpy.ndarray'>\"\n",
    "print(a.shape)            # Prints \"(3,)\" b/c it is a vector of 3 elements\n",
    "print(a[0], a[1], a[2])   # Prints \"1 2 3\"\n",
    "a[0] = 5                 # Change an element of the array\n",
    "print(a)                  # Prints \"[5, 2, 3]\""
   ]
  },
  {
   "cell_type": "code",
   "execution_count": null,
   "metadata": {
    "colab": {
     "base_uri": "https://localhost:8080/",
     "height": 221
    },
    "executionInfo": {
     "elapsed": 662,
     "status": "ok",
     "timestamp": 1595968202977,
     "user": {
      "displayName": "Amy Hinojosa",
      "photoUrl": "",
      "userId": "06181501860804676647"
     },
     "user_tz": 240
    },
    "id": "chGSWRkVvrSa",
    "outputId": "2b70a5b9-83a7-4c7c-fac8-a1c902e26b05"
   },
   "outputs": [
    {
     "name": "stdout",
     "output_type": "stream",
     "text": [
      "(2, 3)\n",
      "1 2 4\n",
      "[[0. 0.]\n",
      " [0. 0.]]\n",
      "[[1. 1.]]\n",
      "[[1. 0.]\n",
      " [0. 1.]]\n",
      "[[0.741488   0.4100308 ]\n",
      " [0.06794146 0.40402002]]\n",
      "[[ 1  2  3  4  5]\n",
      " [ 6  7  8  9 10]\n",
      " [11 12 13 14 15]]\n"
     ]
    }
   ],
   "source": [
    "# create 2D array\n",
    "b = np.array([[1,2,3],[4,5,6]])   # Create a 2X3 array\n",
    "print(b.shape)                     # Prints \"(2, 3)\"\n",
    "print(b[0, 0], b[0, 1], b[1, 0])  # Prints \"1 2 4\"\n",
    "\n",
    "\n",
    "a = np.zeros((2,2))  # Create an array of all zeros\n",
    "print(a)              # Prints \"[[ 0.  0.]\n",
    "                     #          [ 0.  0.]]\"\n",
    "    \n",
    "b = np.ones((1,2))   # Create an array of all ones\n",
    "print(b)              # Prints \"[[ 1.  1.]]\"\n",
    "\n",
    "\n",
    "d = np.eye(2)        # Create a 2x2 identity matrix\n",
    "print(d)              # Prints \"[[ 1.  0.]\n",
    "                     #          [ 0.  1.]]\"\n",
    "    \n",
    "e = np.random.random((2,2)) # Create an array filled with random values\n",
    "print (e)                     # Might print \"[[ 0.91940167  0.08143941]\n",
    "                            #               [ 0.68744134  0.87236687]]\"\n",
    "\n",
    "f = np.arange(start=1, stop= 16, step=1).reshape(3, 5) # Create an array filled with range values\n",
    "# Start and stop indicate range values\n",
    "# Step indicates the numerical distance between values.\n",
    "# the code above is the same as np.arange(15).reshape(3, 5)\n",
    "print(f)\n"
   ]
  },
  {
   "cell_type": "code",
   "execution_count": null,
   "metadata": {
    "id": "Vd4VL_arvrSe",
    "outputId": "f1e3e8f0-71d7-41ef-aef2-8d9c3056a12d"
   },
   "outputs": [
    {
     "name": "stdout",
     "output_type": "stream",
     "text": [
      "int64\n",
      "float64\n",
      "int64\n"
     ]
    }
   ],
   "source": [
    "# array datatype\n",
    "x = np.array([1, 2])  # Let numpy choose the datatype\n",
    "print (x.dtype)         # Prints \"int64\"\n",
    "\n",
    "x = np.array([1.0, 2.0])  # Let numpy choose the datatype\n",
    "print (x.dtype)             # Prints \"float64\"\n",
    "\n",
    "x = np.array([1, 2], dtype=np.int64)  # Force a particular datatype\n",
    "print (x.dtype)       "
   ]
  },
  {
   "cell_type": "markdown",
   "metadata": {
    "id": "ihzg2QzzvrSg"
   },
   "source": [
    "## 2. indexing array"
   ]
  },
  {
   "cell_type": "code",
   "execution_count": null,
   "metadata": {
    "id": "Vvzt_ozSvrSh",
    "outputId": "939c093f-8464-4fa9-c23a-d182f5883a3a"
   },
   "outputs": [
    {
     "name": "stdout",
     "output_type": "stream",
     "text": [
      "[[ 1  2  3  4]\n",
      " [ 5  6  7  8]\n",
      " [ 9 10 11 12]]\n",
      "2\n"
     ]
    }
   ],
   "source": [
    "# Create the following rank 2 array with shape (3, 4)\n",
    "# [[ 1  2  3  4]\n",
    "#  [ 5  6  7  8]\n",
    "#  [ 9 10 11 12]]\n",
    "a = np.array([[1,2,3,4], [5,6,7,8], [9,10,11,12]])\n",
    "print (a)\n",
    "print (a[0, 1])   # Prints \"2\""
   ]
  },
  {
   "cell_type": "code",
   "execution_count": null,
   "metadata": {
    "colab": {
     "base_uri": "https://localhost:8080/",
     "height": 51
    },
    "executionInfo": {
     "elapsed": 432,
     "status": "ok",
     "timestamp": 1595968791035,
     "user": {
      "displayName": "Amy Hinojosa",
      "photoUrl": "",
      "userId": "06181501860804676647"
     },
     "user_tz": 240
    },
    "id": "b9i4KidNvrSj",
    "outputId": "fb514ec3-167c-468d-d1c5-c52e88be61ea"
   },
   "outputs": [
    {
     "name": "stdout",
     "output_type": "stream",
     "text": [
      "[[2 3]\n",
      " [6 7]]\n"
     ]
    }
   ],
   "source": [
    "# Use slicing to pull out the subarray consisting of the first 2 rows\n",
    "# and columns 1 and 2; b is the following array of shape (2, 2):\n",
    "# [[2 3]\n",
    "#  [6 7]]\n",
    "b = a[:2, 1:3]\n",
    "print (b)"
   ]
  },
  {
   "cell_type": "code",
   "execution_count": null,
   "metadata": {
    "colab": {
     "base_uri": "https://localhost:8080/",
     "height": 51
    },
    "executionInfo": {
     "elapsed": 401,
     "status": "ok",
     "timestamp": 1595968807763,
     "user": {
      "displayName": "Amy Hinojosa",
      "photoUrl": "",
      "userId": "06181501860804676647"
     },
     "user_tz": 240
    },
    "id": "zRuecCofvrSl",
    "outputId": "e42a72c4-5ae3-4d94-958c-9444bd14a850"
   },
   "outputs": [
    {
     "name": "stdout",
     "output_type": "stream",
     "text": [
      "2\n",
      "77\n"
     ]
    }
   ],
   "source": [
    "# A slice of an array is a view into the same data, so modifying it will modify the original array.\n",
    "print (a[0, 1])   # Prints \"2\"\n",
    "a[0,1] = 77       # Change 2 to 77\n",
    "print (a[0, 1])   # Prints \"77\""
   ]
  },
  {
   "cell_type": "code",
   "execution_count": null,
   "metadata": {
    "colab": {
     "base_uri": "https://localhost:8080/",
     "height": 51
    },
    "executionInfo": {
     "elapsed": 326,
     "status": "ok",
     "timestamp": 1595968819993,
     "user": {
      "displayName": "Amy Hinojosa",
      "photoUrl": "",
      "userId": "06181501860804676647"
     },
     "user_tz": 240
    },
    "id": "o6iROvIEvrSo",
    "outputId": "c28504b5-1fdd-40da-af66-876be23c33de"
   },
   "outputs": [
    {
     "name": "stdout",
     "output_type": "stream",
     "text": [
      "77\n",
      "2\n"
     ]
    }
   ],
   "source": [
    "# Remember, b refers to a. Changing b will change a too. \n",
    "print (a[0, 1])\n",
    "b[0, 0] = 2      # Change 77 to 2; b[0, 0] is the same piece of data as a[0, 1]\n",
    "print (a[0, 1])  # Now changes back to 2"
   ]
  },
  {
   "cell_type": "code",
   "execution_count": null,
   "metadata": {
    "id": "TUcQarfQvrSq",
    "outputId": "78b72494-91f1-4f5a-badf-b36b5114d040"
   },
   "outputs": [
    {
     "name": "stdout",
     "output_type": "stream",
     "text": [
      "2\n",
      "2\n"
     ]
    }
   ],
   "source": [
    "# If you don't want this, please copy your array!\n",
    "print (a[0, 1])\n",
    "c = a[:2, 1:3].copy()\n",
    "c[0,0] =77 # this only changes c, not a \n",
    "print(a[0,1]) \n"
   ]
  },
  {
   "cell_type": "code",
   "execution_count": null,
   "metadata": {
    "id": "kXRY0mZ3vrSs",
    "outputId": "eeb78d1c-0414-4bb6-a270-7f1f24690f89"
   },
   "outputs": [
    {
     "name": "stdout",
     "output_type": "stream",
     "text": [
      "[5 6 7 8] (4,)\n",
      "[[5 6 7 8]] (1, 4)\n",
      "[ 2  6 10] (3,)\n",
      "[[ 2]\n",
      " [ 6]\n",
      " [10]] (3, 1)\n"
     ]
    }
   ],
   "source": [
    "# Create the following rank 2 array with shape (3, 4)\n",
    "# [[ 1  2  3  4]\n",
    "#  [ 5  6  7  8]\n",
    "#  [ 9 10 11 12]]\n",
    "a = np.array([[1,2,3,4], [5,6,7,8], [9,10,11,12]])\n",
    "\n",
    "# Two ways of accessing the data in the middle row of the array.\n",
    "# Mixing integer indexing with slices yields an array of lower rank,\n",
    "# while using only slices yields an array of the same rank as the\n",
    "# original array:\n",
    "row_r1 = a[1, :]    # Rank 1 view of the second row of a  \n",
    "row_r2 = a[1:2, :]  # Rank 2 view of the second row of a\n",
    "print (row_r1, row_r1.shape)  # Prints \"[5 6 7 8] (4,)\"\n",
    "print (row_r2, row_r2.shape)  # Prints \"[[5 6 7 8]] (1, 4)\"\n",
    "\n",
    "# We can make the same distinction when accessing columns of an array:\n",
    "col_r1 = a[:, 1]\n",
    "col_r2 = a[:, 1:2]\n",
    "print (col_r1, col_r1.shape)  # Prints \"[ 2  6 10] (3,)\"\n",
    "print (col_r2, col_r2.shape)  # Prints \"[[ 2]\n",
    "                            #          [ 6]\n",
    "                            #          [10]] (3, 1)\"\n",
    "                            \n",
    "                            "
   ]
  },
  {
   "cell_type": "code",
   "execution_count": null,
   "metadata": {
    "id": "_N2UCWRBvrSu",
    "outputId": "414726be-c8e7-4d77-d453-3111bd5074c6"
   },
   "outputs": [
    {
     "name": "stdout",
     "output_type": "stream",
     "text": [
      "[[1 2]\n",
      " [3 4]\n",
      " [5 6]]\n",
      "[1 4 5]\n",
      "[1 4 5]\n",
      "[2 2]\n",
      "[2 2]\n"
     ]
    }
   ],
   "source": [
    "#Integer array indexing: \n",
    "a = np.array([[1,2], [3, 4], [5, 6]])\n",
    "print(a)\n",
    "\n",
    "# An example of integer array indexing.\n",
    "# The returned array will have shape (3,) and \n",
    "print (a[[0, 1, 2], [0, 1, 0]])  # Prints \"[1 4 5]\"\n",
    "\n",
    "# The above example of integer array indexing is equivalent to this:\n",
    "print (np.array([a[0, 0], a[1, 1], a[2, 0]]))  # Prints \"[1 4 5]\"\n",
    "\n",
    "# When using integer array indexing, you can reuse the same\n",
    "# element from the source array:\n",
    "print (a[[0, 0], [1, 1]])  # Prints \"[2 2]\"\n",
    "\n",
    "# Equivalent to the previous integer array indexing example\n",
    "print (np.array([a[0, 1], a[0, 1]]))  # Prints \"[2 2]\"        "
   ]
  },
  {
   "cell_type": "code",
   "execution_count": null,
   "metadata": {
    "colab": {
     "base_uri": "https://localhost:8080/",
     "height": 170
    },
    "executionInfo": {
     "elapsed": 738,
     "status": "ok",
     "timestamp": 1595974198715,
     "user": {
      "displayName": "Amy Hinojosa",
      "photoUrl": "",
      "userId": "06181501860804676647"
     },
     "user_tz": 240
    },
    "id": "zzgxb5jlvrSx",
    "outputId": "945613f9-e0e0-4627-e843-5e8b2146ba48"
   },
   "outputs": [
    {
     "name": "stdout",
     "output_type": "stream",
     "text": [
      "[[ 1  2  3]\n",
      " [ 4  5  6]\n",
      " [ 7  8  9]\n",
      " [10 11 12]]\n",
      "[ 1  6  7 11]\n",
      "[[11  2  3]\n",
      " [ 4  5 16]\n",
      " [17  8  9]\n",
      " [10 21 12]]\n"
     ]
    }
   ],
   "source": [
    "# Create a new array from which we will select elements\n",
    "a = np.array([[1,2,3], [4,5,6], [7,8,9], [10, 11, 12]])\n",
    "\n",
    "print(a)  # prints \"array([[ 1,  2,  3],\n",
    "         #                [ 4,  5,  6],\n",
    "         #                [ 7,  8,  9],\n",
    "         #                [10, 11, 12]])\"\n",
    "\n",
    "# Create an array of indices\n",
    "b = np.array([0, 2, 0, 1])\n",
    "\n",
    "# Select one element from each row of a using the indices in b\n",
    "print(a[np.arange(4), b])  # Prints \"[ 1  6  7 11]\"\n",
    "\n",
    "# Mutate one element from each row of a using the indices in b\n",
    "a[np.arange(4), b] += 10\n",
    "\n",
    "print(a)  # prints \"array([[11,  2,  3],\n",
    "         #                [ 4,  5, 16],\n",
    "         #                [17,  8,  9],\n",
    "         #                [10, 21, 12]])\n",
    "         \n",
    "         \n",
    " "
   ]
  },
  {
   "cell_type": "code",
   "execution_count": null,
   "metadata": {
    "id": "zWwIGjSPvrSy",
    "outputId": "c97dec2c-cf2b-44b8-b7ee-6abab06baa27"
   },
   "outputs": [
    {
     "name": "stdout",
     "output_type": "stream",
     "text": [
      "[[False False]\n",
      " [ True  True]\n",
      " [ True  True]]\n",
      "[3 4 5 6]\n",
      "[3 4 5 6]\n"
     ]
    }
   ],
   "source": [
    "#Boolean array indexing         \n",
    "a = np.array([[1,2], [3, 4], [5, 6]])\n",
    "\n",
    "bool_idx = (a > 2)  # Find the elements of a that are bigger than 2;\n",
    "                    # this returns a numpy array of Booleans of the same\n",
    "                    # shape as a, where each slot of bool_idx tells\n",
    "                    # whether that element of a is > 2.\n",
    "\n",
    "print (bool_idx)      # Prints \"[[False False]\n",
    "                    #          [ True  True]\n",
    "                    #          [ True  True]]\"\n",
    "\n",
    "# We use boolean array indexing to construct a rank 1 array\n",
    "# consisting of the elements of a corresponding to the True values\n",
    "# of bool_idx\n",
    "print (a[bool_idx])  # Prints \"[3 4 5 6]\"\n",
    "\n",
    "# We can do all of the above in a single concise statement:\n",
    "print (a[a > 2])     # Prints \"[3 4 5 6]\""
   ]
  },
  {
   "cell_type": "markdown",
   "metadata": {
    "id": "7B6VHt1CvrS3"
   },
   "source": [
    "## 3. shaping & modifying matrix"
   ]
  },
  {
   "cell_type": "code",
   "execution_count": null,
   "metadata": {
    "id": "ZJFMt6BcvrS4",
    "outputId": "1f01ae37-37a8-464a-dac3-4d6fa073e39a"
   },
   "outputs": [
    {
     "name": "stdout",
     "output_type": "stream",
     "text": [
      "[[ 1  5  9]\n",
      " [ 2  6 10]\n",
      " [ 3  7 11]\n",
      " [ 4  8 12]]\n",
      "[[ 1  5  9]\n",
      " [ 2  6 10]\n",
      " [ 3  7 11]\n",
      " [ 4  8 12]]\n",
      "[[ 1  5  9  3  7 11]\n",
      " [ 2  6 10  4  8 12]]\n",
      "[[ 1  5  9  3  7 11]\n",
      " [ 2  6 10  4  8 12]]\n"
     ]
    }
   ],
   "source": [
    "# combining array\n",
    "a = np.array([[1,5,9], [2,6,10]])\n",
    "b = np.array([[3,7,11], [4,8,12]])\n",
    "\n",
    "# Stack two arrays row-wise\n",
    "print(np.vstack((a,b)))\n",
    "\n",
    "# vstack is the same as concatenate arrays along the axis 0 (row)\n",
    "print(np.concatenate((a,b), axis=0))\n",
    "\n",
    "# Stack two arrays column-wise\n",
    "print(np.hstack((a,b)))\n",
    "\n",
    "# hstack is the same as concatenate arrays along the axis 1 (column)\n",
    "print(np.concatenate((a,b), axis=1))"
   ]
  },
  {
   "cell_type": "code",
   "execution_count": null,
   "metadata": {
    "id": "ZTOrvPZZvrS6",
    "outputId": "63d43fbc-3349-4cbf-ccc7-336b2735e54d"
   },
   "outputs": [
    {
     "name": "stdout",
     "output_type": "stream",
     "text": [
      "[1 2 3 4]\n"
     ]
    }
   ],
   "source": [
    "# flatten\n",
    "a = np.array([[1,2], [3,4]])\n",
    "a = a.flatten()\n",
    "print(a)"
   ]
  },
  {
   "cell_type": "code",
   "execution_count": null,
   "metadata": {
    "id": "tRCnCRHkvrS8",
    "outputId": "40eca9c7-cdc3-4d3d-97b9-acb7db4e3377"
   },
   "outputs": [
    {
     "name": "stdout",
     "output_type": "stream",
     "text": [
      "[1 2 3 4]\n",
      "[[ 1  5]\n",
      " [ 9  2]\n",
      " [ 6 10]]\n"
     ]
    }
   ],
   "source": [
    "# reshape\n",
    "a = np.array([[1,2], [3,4]])\n",
    "a = a.reshape((4,)) # make it as vector\n",
    "print(a)\n",
    "\n",
    "a = np.array([1,5,9, 2,6,10]) #originally vector\n",
    "a = a.reshape((3,2)) # make it 3*2\n",
    "print(a)"
   ]
  },
  {
   "cell_type": "code",
   "execution_count": null,
   "metadata": {
    "id": "HWHat2tuvrS-",
    "outputId": "50107fb3-6ffc-4fa1-cb21-afca037180c8"
   },
   "outputs": [
    {
     "name": "stdout",
     "output_type": "stream",
     "text": [
      "[1 2]\n",
      "[[1 2]]\n",
      "[[1]\n",
      " [2]]\n"
     ]
    }
   ],
   "source": [
    "# add new axis\n",
    "x = np.array([1, 2]) # shape (2,)\n",
    "print(x)\n",
    "y = np.expand_dims(x, axis=0) # add new axis row-wise (shape becomes 1*2) =  x[np.newaxis, :]\n",
    "print(y)\n",
    "z = np.expand_dims(x, axis=1) # add new axis column-wise (shape becomes 2*1)  x[:, np.newaxis]\n",
    "print(z)"
   ]
  },
  {
   "cell_type": "markdown",
   "metadata": {
    "id": "8RKgNUd-vrS_"
   },
   "source": [
    "## 4. matrix computation"
   ]
  },
  {
   "cell_type": "code",
   "execution_count": null,
   "metadata": {
    "id": "ywogPH8rvrTA",
    "outputId": "48b7055f-ac10-48c4-e65a-e18a28554f69"
   },
   "outputs": [
    {
     "name": "stdout",
     "output_type": "stream",
     "text": [
      "[[ 6  8]\n",
      " [10 12]]\n",
      "[[ 6  8]\n",
      " [10 12]]\n",
      "[[-4 -4]\n",
      " [-4 -4]]\n",
      "[[-4 -4]\n",
      " [-4 -4]]\n",
      "[[ 5 12]\n",
      " [21 32]]\n",
      "[[ 5 12]\n",
      " [21 32]]\n",
      "[[0.2        0.33333333]\n",
      " [0.42857143 0.5       ]]\n",
      "[[0.2        0.33333333]\n",
      " [0.42857143 0.5       ]]\n",
      "[[1.         1.41421356]\n",
      " [1.73205081 2.        ]]\n",
      "10\n",
      "[4 6]\n",
      "[3 7]\n"
     ]
    }
   ],
   "source": [
    "#basic math operation\n",
    "x = np.array([[1,2],[3,4]])\n",
    "y = np.array([[5,6],[7,8]])\n",
    "\n",
    "# Elementwise sum; both produce the array\n",
    "# [[ 6.0  8.0]\n",
    "#  [10.0 12.0]]\n",
    "print (x + y)\n",
    "print (np.add(x, y))\n",
    "\n",
    "# Elementwise difference; both produce the array\n",
    "# [[-4.0 -4.0]\n",
    "#  [-4.0 -4.0]]\n",
    "print (x - y)\n",
    "print (np.subtract(x, y))\n",
    "\n",
    "# Elementwise product; both produce the array\n",
    "# [[ 5.0 12.0]\n",
    "#  [21.0 32.0]]\n",
    "print (x * y)\n",
    "print (np.multiply(x, y))\n",
    "\n",
    "# Elementwise division; both produce the array\n",
    "# [[ 0.2         0.33333333]\n",
    "#  [ 0.42857143  0.5       ]]\n",
    "print (x / y)\n",
    "print (np.divide(x, y))\n",
    "\n",
    "# Elementwise square root; produces the array\n",
    "# [[ 1.          1.41421356]\n",
    "#  [ 1.73205081  2.        ]]\n",
    "print (np.sqrt(x))\n",
    "\n",
    "# Summation\n",
    "print (np.sum(x))  # Compute sum of all elements; prints \"10\"\n",
    "print (np.sum(x, axis=0))  # Compute sum of each column; prints \"[4 6]\"\n",
    "print (np.sum(x, axis=1))  # Compute sum of each row; prints \"[3 7]\""
   ]
  },
  {
   "cell_type": "code",
   "execution_count": null,
   "metadata": {
    "colab": {
     "base_uri": "https://localhost:8080/",
     "height": 187
    },
    "executionInfo": {
     "elapsed": 446,
     "status": "ok",
     "timestamp": 1595977852131,
     "user": {
      "displayName": "Amy Hinojosa",
      "photoUrl": "",
      "userId": "06181501860804676647"
     },
     "user_tz": 240
    },
    "id": "5AOhpunBvrTB",
    "outputId": "4c415877-0999-4039-b138-fc1b7ac4ca7d"
   },
   "outputs": [
    {
     "name": "stdout",
     "output_type": "stream",
     "text": [
      "219\n",
      "219\n",
      "[29 67]\n",
      "[29 67]\n",
      "[[19 22]\n",
      " [43 50]]\n",
      "[[19 22]\n",
      " [43 50]]\n",
      "[[ 5 12]\n",
      " [21 32]]\n"
     ]
    }
   ],
   "source": [
    "#vector matrix operation\n",
    "v = np.array([9,10])\n",
    "w = np.array([11, 12])\n",
    "\n",
    "x = np.array([[1,2],[3,4]])\n",
    "# this is\n",
    "# [[1,2]\n",
    "# [3,4]]\n",
    "\n",
    "y = np.array([[5,6],[7,8]])\n",
    "# this is\n",
    "# [[5,6]\n",
    "# [7,8]]\n",
    "\n",
    "# Inner product of vectors; both produce 219\n",
    "print (v.dot(w))\n",
    "print (np.dot(v, w))\n",
    "\n",
    "# Matrix / vector product; both produce the rank 1 array [29 67]\n",
    "print (x.dot(v))\n",
    "print (np.dot(x, v))\n",
    "\n",
    "# Matrix / matrix product; both produce the rank 2 array = matrix multiplication \n",
    "# but using np.matmul or a @ b is preferred.\n",
    "# [[19 22]\n",
    "#  [43 50]]\n",
    "print (x.dot(y))\n",
    "print (np.dot(x, y))\n",
    "\n",
    "# cf. elementwise mutiplication \n",
    "print(x*y)\n"
   ]
  },
  {
   "cell_type": "code",
   "execution_count": null,
   "metadata": {
    "id": "z_kmchP4vrTD",
    "outputId": "50b53a6f-3064-4bfd-c64b-d342078b7c27"
   },
   "outputs": [
    {
     "name": "stdout",
     "output_type": "stream",
     "text": [
      "[[1 2]\n",
      " [3 4]]\n",
      "[[1 3]\n",
      " [2 4]]\n",
      "[1 2 3]\n",
      "[1 2 3]\n"
     ]
    }
   ],
   "source": [
    "# Transpose\n",
    "x = np.array([[1,2], [3,4]])\n",
    "print (x)    # Prints \"[[1 2]\n",
    "           #          [3 4]]\"\n",
    "print (x.T)  # Prints \"[[1 3]\n",
    "           #          [2 4]]\"\n",
    "\n",
    "# Note that taking the transpose of a rank 1 array does nothing:\n",
    "v = np.array([1,2,3])\n",
    "print (v)    # Prints \"[1 2 3]\"\n",
    "print (v.T)  # Prints \"[1 2 3]\""
   ]
  },
  {
   "cell_type": "markdown",
   "metadata": {
    "id": "sXgTu8KmvrTF"
   },
   "source": [
    "## 5. Array broadcasting"
   ]
  },
  {
   "cell_type": "markdown",
   "metadata": {
    "id": "0dZ9vD1NvrTH"
   },
   "source": [
    "You want to add the vector v = [1,0,1] to each row of the matrix x and save to y"
   ]
  },
  {
   "cell_type": "code",
   "execution_count": null,
   "metadata": {
    "id": "rfyE6fEDvrTI"
   },
   "outputs": [],
   "source": [
    "x = np.array([[1,2,3], [4,5,6], [7,8,9]])\n",
    "v = np.array([1, 0, 1])"
   ]
  },
  {
   "cell_type": "markdown",
   "metadata": {
    "id": "pUAQzNkovrTK"
   },
   "source": [
    "There can be several ways to to do this..."
   ]
  },
  {
   "cell_type": "code",
   "execution_count": null,
   "metadata": {
    "colab": {
     "base_uri": "https://localhost:8080/",
     "height": 68
    },
    "executionInfo": {
     "elapsed": 465,
     "status": "ok",
     "timestamp": 1595978969078,
     "user": {
      "displayName": "Amy Hinojosa",
      "photoUrl": "",
      "userId": "06181501860804676647"
     },
     "user_tz": 240
    },
    "id": "1HvwDQBpvrTK",
    "outputId": "feb701fc-97e2-495d-f866-2b22b1277464"
   },
   "outputs": [
    {
     "name": "stdout",
     "output_type": "stream",
     "text": [
      "[[ 2  2  4]\n",
      " [ 5  5  7]\n",
      " [ 8  8 10]]\n"
     ]
    }
   ],
   "source": [
    "#1. solve by using array indexing\n",
    "y = np.empty_like(x)   # Create an empty matrix with the same shape as x\n",
    "\n",
    "# Add the vector v to each row of the matrix x with an explicit loop\n",
    "for i in range(3):\n",
    "    y[i, :] = x[i, :] + v\n",
    "\n",
    "print (y)"
   ]
  },
  {
   "cell_type": "code",
   "execution_count": null,
   "metadata": {
    "id": "YPrpVf-2vrTM",
    "outputId": "a7c5ef94-b237-4b55-8359-db31b400a030"
   },
   "outputs": [
    {
     "name": "stdout",
     "output_type": "stream",
     "text": [
      "[[1 0 1]\n",
      " [1 0 1]\n",
      " [1 0 1]]\n",
      "[[ 2  2  4]\n",
      " [ 5  5  7]\n",
      " [ 8  8 10]]\n"
     ]
    }
   ],
   "source": [
    "#2. solve by np.tile\n",
    "vv = np.tile(v, (3, 1))  # Stack v in a shape of (4,1); 4 copies of v on top of each other\n",
    "print (vv)                 # Prints \"[[1 0 1]\n",
    "                         #          [1 0 1]\n",
    "                         #          [1 0 1]\n",
    "\n",
    "y = x + vv  # Add x and vv elementwise\n",
    "print (y)"
   ]
  },
  {
   "cell_type": "markdown",
   "metadata": {
    "id": "c3eFOYIWvrTO"
   },
   "source": [
    "But this is much *simpler* way! Use array broadcasting"
   ]
  },
  {
   "cell_type": "code",
   "execution_count": null,
   "metadata": {
    "id": "8WvFtOFPvrTO",
    "outputId": "9f035ca9-0c39-4f01-857f-ff9c6653055a"
   },
   "outputs": [
    {
     "name": "stdout",
     "output_type": "stream",
     "text": [
      "[[ 2  2  4]\n",
      " [ 5  5  7]\n",
      " [ 8  8 10]]\n"
     ]
    }
   ],
   "source": [
    "#2. solve by broadcasting\n",
    "y = x + v  # Add v to each row of x using broadcasting\n",
    "print (y)  "
   ]
  },
  {
   "cell_type": "code",
   "execution_count": null,
   "metadata": {
    "id": "sx2T28o0vrTQ",
    "outputId": "eef93e07-a4fc-43fd-c29d-e2cdd1dda4bd"
   },
   "outputs": [
    {
     "name": "stdout",
     "output_type": "stream",
     "text": [
      "[[ 2  3  4]\n",
      " [ 4  5  6]\n",
      " [ 8  9 10]]\n"
     ]
    }
   ],
   "source": [
    "# if you want to add a vector to each column of a matrix, not row\n",
    "# x has shape (2, 3) and w has shape (2,).\n",
    "# If we transpose x then it has shape (3, 2) and can be broadcast\n",
    "# against w to yield a result of shape (3, 2); transposing this result\n",
    "# yields the final result of shape (2, 3) which is the matrix x with\n",
    "# the vector w added to each column. Gives the following matrix:\n",
    "# [[ 5  6  7]\n",
    "#  [ 9 10 11]]\n",
    "print ((x.T + v).T)"
   ]
  },
  {
   "cell_type": "code",
   "execution_count": null,
   "metadata": {
    "id": "FGVO9amQvrTS",
    "outputId": "43f75df6-245a-46da-c91c-150b8c948eb0"
   },
   "outputs": [
    {
     "name": "stdout",
     "output_type": "stream",
     "text": [
      "[[ 2  4  6]\n",
      " [ 8 10 12]\n",
      " [14 16 18]]\n"
     ]
    }
   ],
   "source": [
    "# Multiply a matrix by a constant:\n",
    "# x has shape (2, 3). Numpy treats scalars as arrays of shape ();\n",
    "# these can be broadcast together to shape (2, 3), producing the\n",
    "# following array:\n",
    "# [[ 2  4  6]\n",
    "#  [ 8 10 12]]\n",
    "print (x * 2)"
   ]
  },
  {
   "cell_type": "markdown",
   "metadata": {
    "id": "U6x_giNZvrTU"
   },
   "source": [
    "# 6. Miscellenous"
   ]
  },
  {
   "cell_type": "markdown",
   "metadata": {
    "id": "anf5gtzJvrTU"
   },
   "source": [
    "Generate random numbers"
   ]
  },
  {
   "cell_type": "code",
   "execution_count": null,
   "metadata": {
    "id": "m_qYXREEvrTV",
    "outputId": "2a8efbff-90dc-4a49-a2bf-d7e449a63f5c"
   },
   "outputs": [
    {
     "name": "stdout",
     "output_type": "stream",
     "text": [
      "4\n",
      "0.49316548738802857\n",
      "7\n",
      "[[9 1]\n",
      " [2 4]]\n",
      "[[0.26963751 0.71754773]\n",
      " [0.74143828 0.99573257]]\n",
      "[[7 5]\n",
      " [9 3]]\n"
     ]
    }
   ],
   "source": [
    "# generate random integer\n",
    "print(np.random.randint(10)) #output a random integer between 0 and 10\n",
    "# generate random floats\n",
    "print(np.random.rand()) # output a random float between 0 and 1\n",
    "# generate a random value based on an array of values.\n",
    "print(np.random.choice([3, 5, 7, 9]))\n",
    "\n",
    "# generate random integer in matrix\n",
    "print(np.random.randint(10, size=(2,2))) #output a random integer between 0 and 10  in 2x2 matrix\n",
    "# generate random floats  in matrix\n",
    "print(np.random.rand(2,2)) # output a random float between 0 and 1  in 2x2 matrix\n",
    "# generate a random value based on an array of values in matrix\n",
    "print(np.random.choice([3, 5, 7, 9], size=(2,2)))"
   ]
  },
  {
   "cell_type": "markdown",
   "metadata": {
    "id": "FyxMS3e4vrTW"
   },
   "source": [
    "Search arrays"
   ]
  },
  {
   "cell_type": "code",
   "execution_count": null,
   "metadata": {
    "id": "I85PEipbvrTW",
    "outputId": "bca9b607-bee7-4e56-ad36-329079f4026f"
   },
   "outputs": [
    {
     "name": "stdout",
     "output_type": "stream",
     "text": [
      "(array([3, 5, 6]),)\n"
     ]
    }
   ],
   "source": [
    "#You can search an array for a certain value, and return the indexes that get a match.\n",
    "arr = np.array([1, 2, 3, 4, 5, 4, 4])\n",
    "x = np.where(arr == 4)\n",
    "print(x)"
   ]
  },
  {
   "cell_type": "markdown",
   "metadata": {
    "id": "6YkR2Bm5vrTZ"
   },
   "source": [
    "# Numpy Exercises"
   ]
  },
  {
   "cell_type": "markdown",
   "metadata": {
    "id": "QNzlPcF7vrTZ"
   },
   "source": [
    "## Q1. Create a null vector of size (3,3) but the value at (first row, second column) as 5\n",
    "hint: use np.zeros "
   ]
  },
  {
   "cell_type": "code",
   "execution_count": null,
   "metadata": {
    "executionInfo": {
     "elapsed": 760,
     "status": "ok",
     "timestamp": 1617381739752,
     "user": {
      "displayName": "Amy Hinojosa",
      "photoUrl": "",
      "userId": "06181501860804676647"
     },
     "user_tz": 240
    },
    "id": "BMcqugVovrTa"
   },
   "outputs": [],
   "source": []
  },
  {
   "cell_type": "markdown",
   "metadata": {
    "id": "z3sN9YezvrTb"
   },
   "source": [
    "## Q2. Create a 10x10 array with random values and find the minimum/maximum/mean values\n",
    "\n",
    "hint: .min(), .max(), .mean()"
   ]
  },
  {
   "cell_type": "code",
   "execution_count": null,
   "metadata": {
    "executionInfo": {
     "elapsed": 768,
     "status": "ok",
     "timestamp": 1617381739751,
     "user": {
      "displayName": "Amy Hinojosa",
      "photoUrl": "",
      "userId": "06181501860804676647"
     },
     "user_tz": 240
    },
    "id": "70ghE8ESvrTc"
   },
   "outputs": [],
   "source": []
  },
  {
   "cell_type": "markdown",
   "metadata": {
    "id": "5I3DbcaovrTd"
   },
   "source": [
    "## Q3. Run the code below and discuss the results "
   ]
  },
  {
   "cell_type": "code",
   "execution_count": null,
   "metadata": {
    "colab": {
     "base_uri": "https://localhost:8080/"
    },
    "executionInfo": {
     "elapsed": 312,
     "status": "ok",
     "timestamp": 1614368614969,
     "user": {
      "displayName": "Seoyoung Ahn",
      "photoUrl": "https://lh3.googleusercontent.com/-_STWXsfnDBA/AAAAAAAAAAI/AAAAAAAAD9c/kXlZ59lslBY/s64/photo.jpg",
      "userId": "17379736260487986874"
     },
     "user_tz": 300
    },
    "id": "pcwjwE4tvrTd",
    "outputId": "ec72c5a0-12c9-46b3-e2e2-14e6ef609a0a"
   },
   "outputs": [
    {
     "name": "stdout",
     "output_type": "stream",
     "text": [
      "nan\n",
      "False\n",
      "False\n",
      "nan\n",
      "True\n",
      "False\n"
     ]
    }
   ],
   "source": [
    "print(0 * np.nan)\n",
    "print(np.nan == np.nan)\n",
    "print(np.inf > np.nan)\n",
    "print(np.nan - np.nan)\n",
    "print(np.nan in set([np.nan]))\n",
    "print(0.3 == 3 * 0.1)"
   ]
  },
  {
   "cell_type": "markdown",
   "metadata": {
    "id": "_FF9sLwj7k6r"
   },
   "source": [
    "Discussion:"
   ]
  },
  {
   "cell_type": "markdown",
   "metadata": {
    "id": "sbjf4mEFvrTg"
   },
   "source": [
    "# Q4. Normalize a 5x5 random matrix \n",
    "\n",
    "hint: (x -mean)/std"
   ]
  },
  {
   "cell_type": "code",
   "execution_count": null,
   "metadata": {
    "executionInfo": {
     "elapsed": 385,
     "status": "ok",
     "timestamp": 1617381771003,
     "user": {
      "displayName": "Amy Hinojosa",
      "photoUrl": "",
      "userId": "06181501860804676647"
     },
     "user_tz": 240
    },
    "id": "LZeVQ1VGvrTh"
   },
   "outputs": [],
   "source": []
  },
  {
   "cell_type": "markdown",
   "metadata": {
    "id": "Avi8ZPTwvrTi"
   },
   "source": [
    "# Q5. Multiply a the following 5x3 matrix by a 3x2 matrix\n",
    "hint: @ or np.matmul"
   ]
  },
  {
   "cell_type": "code",
   "execution_count": 1,
   "metadata": {
    "colab": {
     "base_uri": "https://localhost:8080/",
     "height": 131
    },
    "executionInfo": {
     "elapsed": 385,
     "status": "error",
     "timestamp": 1617381786889,
     "user": {
      "displayName": "Amy Hinojosa",
      "photoUrl": "",
      "userId": "06181501860804676647"
     },
     "user_tz": 240
    },
    "id": "k7oRYbr5vrTi",
    "outputId": "652f25c6-a501-4c7f-f40e-61f270841e81"
   },
   "outputs": [
    {
     "ename": "SyntaxError",
     "evalue": "ignored",
     "output_type": "error",
     "traceback": [
      "\u001b[0;36m  File \u001b[0;32m\"<ipython-input-1-253e2ea4a21d>\"\u001b[0;36m, line \u001b[0;32m4\u001b[0m\n\u001b[0;31m    c =\u001b[0m\n\u001b[0m        ^\u001b[0m\n\u001b[0;31mSyntaxError\u001b[0m\u001b[0;31m:\u001b[0m invalid syntax\n"
     ]
    }
   ],
   "source": [
    "a = np.arange(15).reshape(5,3)\n",
    "b = np.arange(6).reshape(3,2)\n",
    "## matrix multiplaction\n",
    "c = \n",
    "print(c)"
   ]
  },
  {
   "cell_type": "markdown",
   "metadata": {
    "id": "oASCuxbuvrTl"
   },
   "source": [
    "# Q6. Create random vector of size 10 and replace the maximum value by 0\n",
    "hint: np.argmax"
   ]
  },
  {
   "cell_type": "code",
   "execution_count": 1,
   "metadata": {
    "executionInfo": {
     "elapsed": 280,
     "status": "ok",
     "timestamp": 1617381837458,
     "user": {
      "displayName": "Amy Hinojosa",
      "photoUrl": "",
      "userId": "06181501860804676647"
     },
     "user_tz": 240
    },
    "id": "jRRIzpyuvrTl"
   },
   "outputs": [],
   "source": []
  },
  {
   "cell_type": "markdown",
   "metadata": {
    "id": "6bFIwNwfvrTn"
   },
   "source": [
    "# Q7. Find the closest value \n",
    "\n",
    "hint: get the absolute difference between Z and v using `np.abs`, and find the location of the smallest difference using `.argmin()`"
   ]
  },
  {
   "cell_type": "code",
   "execution_count": 2,
   "metadata": {
    "colab": {
     "base_uri": "https://localhost:8080/",
     "height": 131
    },
    "executionInfo": {
     "elapsed": 486,
     "status": "error",
     "timestamp": 1617381852939,
     "user": {
      "displayName": "Amy Hinojosa",
      "photoUrl": "",
      "userId": "06181501860804676647"
     },
     "user_tz": 240
    },
    "id": "5y49wziCvrTo",
    "outputId": "0dc511c4-ac3e-4190-bb62-df614b3046c2"
   },
   "outputs": [
    {
     "ename": "SyntaxError",
     "evalue": "ignored",
     "output_type": "error",
     "traceback": [
      "\u001b[0;36m  File \u001b[0;32m\"<ipython-input-2-68d8909cab52>\"\u001b[0;36m, line \u001b[0;32m5\u001b[0m\n\u001b[0;31m    index =\u001b[0m\n\u001b[0m            ^\u001b[0m\n\u001b[0;31mSyntaxError\u001b[0m\u001b[0;31m:\u001b[0m invalid syntax\n"
     ]
    }
   ],
   "source": [
    "v = 3.2\n",
    "Z = np.arange(100)\n",
    "\n",
    "# find the value that is closest to 3.2 in vector Z\n",
    "index = \n",
    "print(Z[index])"
   ]
  },
  {
   "cell_type": "markdown",
   "metadata": {
    "id": "SqOq4pFqvrTs"
   },
   "source": [
    "## Q8. Find the indexes where the values are even\n",
    "\n",
    "hint: np.where"
   ]
  },
  {
   "cell_type": "code",
   "execution_count": 3,
   "metadata": {
    "colab": {
     "base_uri": "https://localhost:8080/",
     "height": 131
    },
    "executionInfo": {
     "elapsed": 374,
     "status": "error",
     "timestamp": 1617381881673,
     "user": {
      "displayName": "Amy Hinojosa",
      "photoUrl": "",
      "userId": "06181501860804676647"
     },
     "user_tz": 240
    },
    "id": "pSBa0Q-XvrTs",
    "outputId": "4eced7ac-c6fa-44f8-aef3-52daba2cd08e"
   },
   "outputs": [
    {
     "ename": "SyntaxError",
     "evalue": "ignored",
     "output_type": "error",
     "traceback": [
      "\u001b[0;36m  File \u001b[0;32m\"<ipython-input-3-fcec2b67a0ea>\"\u001b[0;36m, line \u001b[0;32m3\u001b[0m\n\u001b[0;31m    x =\u001b[0m\n\u001b[0m        ^\u001b[0m\n\u001b[0;31mSyntaxError\u001b[0m\u001b[0;31m:\u001b[0m invalid syntax\n"
     ]
    }
   ],
   "source": [
    "arr = np.array([1, 2, 3, 4, 5, 6, 7, 8])\n",
    "# your implementation\n",
    "x = \n",
    "print(x) # it should print [1,3,5,7]"
   ]
  }
 ],
 "metadata": {
  "colab": {
   "collapsed_sections": [],
   "name": "Ch6. Numpy.ipynb",
   "provenance": [
    {
     "file_id": "12S29wfL21QtGaZ9CKwOBcp6be-0dTn_l",
     "timestamp": 1595894852695
    }
   ],
   "toc_visible": true
  },
  "kernelspec": {
   "display_name": "Python 3",
   "language": "python",
   "name": "python3"
  },
  "language_info": {
   "codemirror_mode": {
    "name": "ipython",
    "version": 3
   },
   "file_extension": ".py",
   "mimetype": "text/x-python",
   "name": "python",
   "nbconvert_exporter": "python",
   "pygments_lexer": "ipython3",
   "version": "3.7.4"
  }
 },
 "nbformat": 4,
 "nbformat_minor": 4
}
